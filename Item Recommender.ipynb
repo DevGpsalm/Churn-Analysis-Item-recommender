{
  "nbformat": 4,
  "nbformat_minor": 0,
  "metadata": {
    "colab": {
      "name": "Copy of itemRecommender.ipynb",
      "provenance": [],
      "collapsed_sections": []
    },
    "kernelspec": {
      "display_name": "Python 3",
      "language": "python",
      "name": "python3"
    },
    "language_info": {
      "codemirror_mode": {
        "name": "ipython",
        "version": 3
      },
      "file_extension": ".py",
      "mimetype": "text/x-python",
      "name": "python",
      "nbconvert_exporter": "python",
      "pygments_lexer": "ipython3",
      "version": "3.7.6"
    }
  },
  "cells": [
    {
      "cell_type": "code",
      "metadata": {
        "id": "fXMQvMQm2rq9",
        "colab": {
          "base_uri": "https://localhost:8080/"
        },
        "outputId": "45e35894-d6c6-429b-e262-2afc2e2d985e"
      },
      "source": [
        "a!pip install turicreate"
      ],
      "execution_count": null,
      "outputs": [
        {
          "output_type": "stream",
          "text": [
            "      Successfully uninstalled tensorflow-2.3.0\n",
            "  Found existing installation: prettytable 1.0.1\n",
            "    Uninstalling prettytable-1.0.1:\n",
            "      Successfully uninstalled prettytable-1.0.1\n",
            "Successfully installed coremltools-3.3 gast-0.2.2 keras-applications-1.0.8 prettytable-0.7.2 resampy-0.2.1 tensorboard-2.0.2 tensorflow-2.0.3 tensorflow-estimator-2.0.1 turicreate-6.4.1\n"
          ],
          "name": "stdout"
        }
      ]
    },
    {
      "cell_type": "code",
      "metadata": {
        "id": "1QwNdIpBXJ7p"
      },
      "source": [
        "import numpy as np\n",
        "import pandas as pd\n",
        "import matplotlib.pyplot as plt\n",
        "\n",
        "import os, sys\n",
        "import datetime\n",
        "import turicreate as tc"
      ],
      "execution_count": null,
      "outputs": []
    },
    {
      "cell_type": "code",
      "metadata": {
        "id": "nijrf1p-2Gun",
        "colab": {
          "base_uri": "https://localhost:8080/"
        },
        "outputId": "8e9ea748-4dc1-4ec6-c99d-12cd0ce764da"
      },
      "source": [
        "from google.colab import drive\n",
        "drive.mount('/content/drive')"
      ],
      "execution_count": null,
      "outputs": [
        {
          "output_type": "stream",
          "text": [
            "Mounted at /content/drive\n"
          ],
          "name": "stdout"
        }
      ]
    },
    {
      "cell_type": "code",
      "metadata": {
        "id": "4Bs8_wmx2IHr",
        "colab": {
          "base_uri": "https://localhost:8080/"
        },
        "outputId": "988650c9-f802-4a68-8232-da24365e454e"
      },
      "source": [
        "%cd /content/drive/My\\ Drive/AdventureW"
      ],
      "execution_count": null,
      "outputs": [
        {
          "output_type": "stream",
          "text": [
            "/content/drive/My Drive/AdventureW\n"
          ],
          "name": "stdout"
        }
      ]
    },
    {
      "cell_type": "code",
      "metadata": {
        "id": "jNGDzCIoXJ7w",
        "colab": {
          "base_uri": "https://localhost:8080/"
        },
        "outputId": "ea55ea13-a1b5-445b-e153-f66b4c66c788"
      },
      "source": [
        "#parse_dates = date_cols\n",
        "date_cols = [\"BirthDate\",\"OrderDate\",\"DueDate\",\"ShipDate\",\"DateFirstPurchase\"]\n",
        "\n",
        "# usecols = [\"CustomerKey\",\"ProductKey\",\"OrderQuantity\",\"MaritalStatus\",\"Gender\",\n",
        "#            \"TotalChildren\",\"NumberChildrenAtHome\",\"NumberCarsOwned\",\"YearlyIncome\",\n",
        "#            ]\n",
        "\n",
        "customers = pd.read_csv(\"Customers(FIS).csv\", parse_dates=date_cols) # index_col='CustomerKey'"
      ],
      "execution_count": null,
      "outputs": [
        {
          "output_type": "stream",
          "text": [
            "/usr/local/lib/python3.6/dist-packages/IPython/core/interactiveshell.py:2718: DtypeWarning: Columns (10) have mixed types.Specify dtype option on import or set low_memory=False.\n",
            "  interactivity=interactivity, compiler=compiler, result=result)\n"
          ],
          "name": "stderr"
        }
      ]
    },
    {
      "cell_type": "code",
      "metadata": {
        "id": "u07rUOLD7ssf"
      },
      "source": [
        ""
      ],
      "execution_count": null,
      "outputs": []
    },
    {
      "cell_type": "code",
      "metadata": {
        "id": "-ce0cnZ90ANI"
      },
      "source": [
        "#Drop Misiing Values\n",
        "customers.dropna(axis=1, inplace=True)"
      ],
      "execution_count": null,
      "outputs": []
    },
    {
      "cell_type": "code",
      "metadata": {
        "id": "al8y4KtY0jc6",
        "colab": {
          "base_uri": "https://localhost:8080/"
        },
        "outputId": "a6a57e9c-dcbc-4989-f4f2-99b9f90c3069"
      },
      "source": [
        "customers.shape"
      ],
      "execution_count": null,
      "outputs": [
        {
          "output_type": "execute_result",
          "data": {
            "text/plain": [
              "(60398, 49)"
            ]
          },
          "metadata": {
            "tags": []
          },
          "execution_count": 7
        }
      ]
    },
    {
      "cell_type": "code",
      "metadata": {
        "id": "9Y2CkC6000AK"
      },
      "source": [
        "# Extract Year of Birth\n",
        "customers['Birth_Year']  = customers['BirthDate'].dt.year\n",
        "\n",
        "#Map EnglishEducation to Numbers\n",
        "customers['EnglishEducation'] = customers['EnglishEducation'].map({'Partial High School': 1,\n",
        "                                                          'High School': 2,\n",
        "                                                          'Partial College': 3,\n",
        "                                                          'Bachelors': 4,\n",
        "                                                          'Graduate Degree': 5, })\n",
        "\n",
        "#Map EnglishOccupation to Numbers\n",
        "customers['EnglishOccupation'] = customers['EnglishOccupation'].map({'Manual': 1,\n",
        "                                'Skilled Manual': 2,\n",
        "                                'Clerical': 3,\n",
        "                                'Management': 4,\n",
        "                                'Professional': 5,\n",
        "                                })\n",
        "\n",
        "#Map CommuteDistance to Numbers\n",
        "customers['CommuteDistance'] = customers['CommuteDistance'].map({'0-1 Miles': 1,\n",
        "                                                      '1-2 Miles': 2,\n",
        "                                                      '2-5 Miles': 3,\n",
        "                                                      '5-10 Miles': 4,\n",
        "                                                      '10+ Miles': 5\n",
        "                                                      })"
      ],
      "execution_count": null,
      "outputs": []
    },
    {
      "cell_type": "code",
      "metadata": {
        "id": "DFXaDgHd14vz"
      },
      "source": [
        "# OneHot Encoding\n",
        "cat_feat = ['MaritalStatus','Gender'] # Remove SalesTerritoryKey\n",
        "customers = pd.get_dummies(data=customers, columns=cat_feat, drop_first=True)"
      ],
      "execution_count": null,
      "outputs": []
    },
    {
      "cell_type": "code",
      "metadata": {
        "id": "jClN8tuFz7j7"
      },
      "source": [
        "columns_to_drop = ['GeographyKey','CustomerAlternateKey','FirstName','LastName',\n",
        "                   'NameStyle','BirthDate','EmailAddress','SpanishEducation',\n",
        "                   'FrenchEducation', 'SpanishOccupation', 'FrenchOccupation',\n",
        "                   'AddressLine1','Phone','DateFirstPurchase','CurrencyKey','OrderDateKey',\n",
        "                   'DueDateKey', 'ShipDateKey', 'CustomerKey.1','SalesOrderNumber', 'SalesOrderLineNumber',\n",
        "                   'RevisionNumber','DueDate','OrderDate','ShipDate']\n",
        "\n",
        "#Drop Certain Features\n",
        "customers = customers.drop(columns_to_drop, axis=1)"
      ],
      "execution_count": null,
      "outputs": []
    },
    {
      "cell_type": "code",
      "metadata": {
        "id": "ccJhRcl9XJ74",
        "scrolled": true,
        "colab": {
          "base_uri": "https://localhost:8080/",
          "height": 224
        },
        "outputId": "f3a4a4ce-dd3b-42e7-dc93-564376b1164e"
      },
      "source": [
        "customers.head()"
      ],
      "execution_count": null,
      "outputs": [
        {
          "output_type": "execute_result",
          "data": {
            "text/html": [
              "<div>\n",
              "<style scoped>\n",
              "    .dataframe tbody tr th:only-of-type {\n",
              "        vertical-align: middle;\n",
              "    }\n",
              "\n",
              "    .dataframe tbody tr th {\n",
              "        vertical-align: top;\n",
              "    }\n",
              "\n",
              "    .dataframe thead th {\n",
              "        text-align: right;\n",
              "    }\n",
              "</style>\n",
              "<table border=\"1\" class=\"dataframe\">\n",
              "  <thead>\n",
              "    <tr style=\"text-align: right;\">\n",
              "      <th></th>\n",
              "      <th>CustomerKey</th>\n",
              "      <th>YearlyIncome</th>\n",
              "      <th>TotalChildren</th>\n",
              "      <th>NumberChildrenAtHome</th>\n",
              "      <th>EnglishEducation</th>\n",
              "      <th>EnglishOccupation</th>\n",
              "      <th>HouseOwnerFlag</th>\n",
              "      <th>NumberCarsOwned</th>\n",
              "      <th>CommuteDistance</th>\n",
              "      <th>ProductKey</th>\n",
              "      <th>PromotionKey</th>\n",
              "      <th>SalesTerritoryKey</th>\n",
              "      <th>OrderQuantity</th>\n",
              "      <th>UnitPrice</th>\n",
              "      <th>ExtendedAmount</th>\n",
              "      <th>UnitPriceDiscountPct</th>\n",
              "      <th>DiscountAmount</th>\n",
              "      <th>ProductStandardCost</th>\n",
              "      <th>TotalProductCost</th>\n",
              "      <th>SalesAmount</th>\n",
              "      <th>TaxAmt</th>\n",
              "      <th>Freight</th>\n",
              "      <th>Birth_Year</th>\n",
              "      <th>MaritalStatus_S</th>\n",
              "      <th>Gender_M</th>\n",
              "    </tr>\n",
              "  </thead>\n",
              "  <tbody>\n",
              "    <tr>\n",
              "      <th>0</th>\n",
              "      <td>11015</td>\n",
              "      <td>30000.0</td>\n",
              "      <td>0</td>\n",
              "      <td>0</td>\n",
              "      <td>3</td>\n",
              "      <td>2</td>\n",
              "      <td>0</td>\n",
              "      <td>1</td>\n",
              "      <td>4</td>\n",
              "      <td>353</td>\n",
              "      <td>2</td>\n",
              "      <td>4</td>\n",
              "      <td>1</td>\n",
              "      <td>2319.99</td>\n",
              "      <td>2319.99</td>\n",
              "      <td>0</td>\n",
              "      <td>0</td>\n",
              "      <td>1265.6195</td>\n",
              "      <td>1265.6195</td>\n",
              "      <td>2319.99</td>\n",
              "      <td>185.5992</td>\n",
              "      <td>57.9998</td>\n",
              "      <td>1984</td>\n",
              "      <td>1</td>\n",
              "      <td>0</td>\n",
              "    </tr>\n",
              "    <tr>\n",
              "      <th>1</th>\n",
              "      <td>11015</td>\n",
              "      <td>30000.0</td>\n",
              "      <td>0</td>\n",
              "      <td>0</td>\n",
              "      <td>3</td>\n",
              "      <td>2</td>\n",
              "      <td>0</td>\n",
              "      <td>1</td>\n",
              "      <td>4</td>\n",
              "      <td>485</td>\n",
              "      <td>1</td>\n",
              "      <td>4</td>\n",
              "      <td>1</td>\n",
              "      <td>21.98</td>\n",
              "      <td>21.98</td>\n",
              "      <td>0</td>\n",
              "      <td>0</td>\n",
              "      <td>8.2205</td>\n",
              "      <td>8.2205</td>\n",
              "      <td>21.98</td>\n",
              "      <td>1.7584</td>\n",
              "      <td>0.5495</td>\n",
              "      <td>1984</td>\n",
              "      <td>1</td>\n",
              "      <td>0</td>\n",
              "    </tr>\n",
              "    <tr>\n",
              "      <th>2</th>\n",
              "      <td>11015</td>\n",
              "      <td>30000.0</td>\n",
              "      <td>0</td>\n",
              "      <td>0</td>\n",
              "      <td>3</td>\n",
              "      <td>2</td>\n",
              "      <td>0</td>\n",
              "      <td>1</td>\n",
              "      <td>4</td>\n",
              "      <td>486</td>\n",
              "      <td>1</td>\n",
              "      <td>4</td>\n",
              "      <td>1</td>\n",
              "      <td>159.00</td>\n",
              "      <td>159.00</td>\n",
              "      <td>0</td>\n",
              "      <td>0</td>\n",
              "      <td>59.4660</td>\n",
              "      <td>59.4660</td>\n",
              "      <td>159.00</td>\n",
              "      <td>12.7200</td>\n",
              "      <td>3.9750</td>\n",
              "      <td>1984</td>\n",
              "      <td>1</td>\n",
              "      <td>0</td>\n",
              "    </tr>\n",
              "    <tr>\n",
              "      <th>3</th>\n",
              "      <td>11017</td>\n",
              "      <td>20000.0</td>\n",
              "      <td>4</td>\n",
              "      <td>0</td>\n",
              "      <td>2</td>\n",
              "      <td>2</td>\n",
              "      <td>1</td>\n",
              "      <td>2</td>\n",
              "      <td>4</td>\n",
              "      <td>350</td>\n",
              "      <td>1</td>\n",
              "      <td>9</td>\n",
              "      <td>1</td>\n",
              "      <td>3374.99</td>\n",
              "      <td>3374.99</td>\n",
              "      <td>0</td>\n",
              "      <td>0</td>\n",
              "      <td>1898.0944</td>\n",
              "      <td>1898.0944</td>\n",
              "      <td>3374.99</td>\n",
              "      <td>269.9992</td>\n",
              "      <td>84.3748</td>\n",
              "      <td>1949</td>\n",
              "      <td>1</td>\n",
              "      <td>0</td>\n",
              "    </tr>\n",
              "    <tr>\n",
              "      <th>4</th>\n",
              "      <td>11017</td>\n",
              "      <td>20000.0</td>\n",
              "      <td>4</td>\n",
              "      <td>0</td>\n",
              "      <td>2</td>\n",
              "      <td>2</td>\n",
              "      <td>1</td>\n",
              "      <td>2</td>\n",
              "      <td>4</td>\n",
              "      <td>363</td>\n",
              "      <td>2</td>\n",
              "      <td>9</td>\n",
              "      <td>1</td>\n",
              "      <td>2294.99</td>\n",
              "      <td>2294.99</td>\n",
              "      <td>0</td>\n",
              "      <td>0</td>\n",
              "      <td>1251.9813</td>\n",
              "      <td>1251.9813</td>\n",
              "      <td>2294.99</td>\n",
              "      <td>183.5992</td>\n",
              "      <td>57.3748</td>\n",
              "      <td>1949</td>\n",
              "      <td>1</td>\n",
              "      <td>0</td>\n",
              "    </tr>\n",
              "  </tbody>\n",
              "</table>\n",
              "</div>"
            ],
            "text/plain": [
              "   CustomerKey  YearlyIncome  ...  MaritalStatus_S  Gender_M\n",
              "0        11015       30000.0  ...                1         0\n",
              "1        11015       30000.0  ...                1         0\n",
              "2        11015       30000.0  ...                1         0\n",
              "3        11017       20000.0  ...                1         0\n",
              "4        11017       20000.0  ...                1         0\n",
              "\n",
              "[5 rows x 25 columns]"
            ]
          },
          "metadata": {
            "tags": []
          },
          "execution_count": 11
        }
      ]
    },
    {
      "cell_type": "code",
      "metadata": {
        "id": "SVLwsfdxA-FJ"
      },
      "source": [
        "customers_quant = customers.groupby(['CustomerKey','ProductKey']).sum()[['OrderQuantity']].reset_index()"
      ],
      "execution_count": null,
      "outputs": []
    },
    {
      "cell_type": "code",
      "metadata": {
        "id": "iOewNBz-6s4Q",
        "colab": {
          "base_uri": "https://localhost:8080/",
          "height": 359
        },
        "outputId": "2c7b142e-ab89-4217-ab88-fef95170ef2f"
      },
      "source": [
        "customers_quant[customers_quant['CustomerKey']==11001]"
      ],
      "execution_count": null,
      "outputs": [
        {
          "output_type": "execute_result",
          "data": {
            "text/html": [
              "<div>\n",
              "<style scoped>\n",
              "    .dataframe tbody tr th:only-of-type {\n",
              "        vertical-align: middle;\n",
              "    }\n",
              "\n",
              "    .dataframe tbody tr th {\n",
              "        vertical-align: top;\n",
              "    }\n",
              "\n",
              "    .dataframe thead th {\n",
              "        text-align: right;\n",
              "    }\n",
              "</style>\n",
              "<table border=\"1\" class=\"dataframe\">\n",
              "  <thead>\n",
              "    <tr style=\"text-align: right;\">\n",
              "      <th></th>\n",
              "      <th>CustomerKey</th>\n",
              "      <th>ProductKey</th>\n",
              "      <th>OrderQuantity</th>\n",
              "    </tr>\n",
              "  </thead>\n",
              "  <tbody>\n",
              "    <tr>\n",
              "      <th>8</th>\n",
              "      <td>11001</td>\n",
              "      <td>217</td>\n",
              "      <td>1</td>\n",
              "    </tr>\n",
              "    <tr>\n",
              "      <th>9</th>\n",
              "      <td>11001</td>\n",
              "      <td>225</td>\n",
              "      <td>1</td>\n",
              "    </tr>\n",
              "    <tr>\n",
              "      <th>10</th>\n",
              "      <td>11001</td>\n",
              "      <td>350</td>\n",
              "      <td>1</td>\n",
              "    </tr>\n",
              "    <tr>\n",
              "      <th>11</th>\n",
              "      <td>11001</td>\n",
              "      <td>353</td>\n",
              "      <td>1</td>\n",
              "    </tr>\n",
              "    <tr>\n",
              "      <th>12</th>\n",
              "      <td>11001</td>\n",
              "      <td>477</td>\n",
              "      <td>2</td>\n",
              "    </tr>\n",
              "    <tr>\n",
              "      <th>13</th>\n",
              "      <td>11001</td>\n",
              "      <td>478</td>\n",
              "      <td>1</td>\n",
              "    </tr>\n",
              "    <tr>\n",
              "      <th>14</th>\n",
              "      <td>11001</td>\n",
              "      <td>479</td>\n",
              "      <td>1</td>\n",
              "    </tr>\n",
              "    <tr>\n",
              "      <th>15</th>\n",
              "      <td>11001</td>\n",
              "      <td>485</td>\n",
              "      <td>1</td>\n",
              "    </tr>\n",
              "    <tr>\n",
              "      <th>16</th>\n",
              "      <td>11001</td>\n",
              "      <td>491</td>\n",
              "      <td>1</td>\n",
              "    </tr>\n",
              "    <tr>\n",
              "      <th>17</th>\n",
              "      <td>11001</td>\n",
              "      <td>604</td>\n",
              "      <td>1</td>\n",
              "    </tr>\n",
              "  </tbody>\n",
              "</table>\n",
              "</div>"
            ],
            "text/plain": [
              "    CustomerKey  ProductKey  OrderQuantity\n",
              "8         11001         217              1\n",
              "9         11001         225              1\n",
              "10        11001         350              1\n",
              "11        11001         353              1\n",
              "12        11001         477              2\n",
              "13        11001         478              1\n",
              "14        11001         479              1\n",
              "15        11001         485              1\n",
              "16        11001         491              1\n",
              "17        11001         604              1"
            ]
          },
          "metadata": {
            "tags": []
          },
          "execution_count": 13
        }
      ]
    },
    {
      "cell_type": "code",
      "metadata": {
        "id": "mT1lmbSIXJ8B",
        "scrolled": true,
        "colab": {
          "base_uri": "https://localhost:8080/"
        },
        "outputId": "510c4efb-36d1-486d-f07f-c138b8acc960"
      },
      "source": [
        "print(\"Customers Shape - \", customers_quant.shape)"
      ],
      "execution_count": null,
      "outputs": [
        {
          "output_type": "stream",
          "text": [
            "Customers Shape -  (59051, 3)\n"
          ],
          "name": "stdout"
        }
      ]
    },
    {
      "cell_type": "code",
      "metadata": {
        "id": "sDNyltmrVc2t"
      },
      "source": [
        "customers_quant['Pro_dum'] = customers_quant['ProductKey']"
      ],
      "execution_count": null,
      "outputs": []
    },
    {
      "cell_type": "code",
      "metadata": {
        "id": "KyeNXqhjQzhR"
      },
      "source": [
        "purchase_dummy = pd.get_dummies(customers_quant, columns=['Pro_dum'])"
      ],
      "execution_count": null,
      "outputs": []
    },
    {
      "cell_type": "code",
      "metadata": {
        "id": "taK5OFNWQZhA"
      },
      "source": [
        "purchase_dummy = purchase_dummy.melt(id_vars = purchase_dummy.columns[:3], var_name='ProductKey_dum', value_name='PurchaseDummy').drop('ProductKey_dum', axis=1)"
      ],
      "execution_count": null,
      "outputs": []
    },
    {
      "cell_type": "code",
      "metadata": {
        "id": "ZitZ2AGuOYTG",
        "colab": {
          "base_uri": "https://localhost:8080/",
          "height": 419
        },
        "outputId": "9fbd9ae0-8343-4cd2-bfc7-cdd84794bd3a"
      },
      "source": [
        "purchase_dummy"
      ],
      "execution_count": null,
      "outputs": [
        {
          "output_type": "execute_result",
          "data": {
            "text/html": [
              "<div>\n",
              "<style scoped>\n",
              "    .dataframe tbody tr th:only-of-type {\n",
              "        vertical-align: middle;\n",
              "    }\n",
              "\n",
              "    .dataframe tbody tr th {\n",
              "        vertical-align: top;\n",
              "    }\n",
              "\n",
              "    .dataframe thead th {\n",
              "        text-align: right;\n",
              "    }\n",
              "</style>\n",
              "<table border=\"1\" class=\"dataframe\">\n",
              "  <thead>\n",
              "    <tr style=\"text-align: right;\">\n",
              "      <th></th>\n",
              "      <th>CustomerKey</th>\n",
              "      <th>ProductKey</th>\n",
              "      <th>OrderQuantity</th>\n",
              "      <th>PurchaseDummy</th>\n",
              "    </tr>\n",
              "  </thead>\n",
              "  <tbody>\n",
              "    <tr>\n",
              "      <th>0</th>\n",
              "      <td>11000</td>\n",
              "      <td>214</td>\n",
              "      <td>1</td>\n",
              "      <td>1</td>\n",
              "    </tr>\n",
              "    <tr>\n",
              "      <th>1</th>\n",
              "      <td>11000</td>\n",
              "      <td>344</td>\n",
              "      <td>1</td>\n",
              "      <td>0</td>\n",
              "    </tr>\n",
              "    <tr>\n",
              "      <th>2</th>\n",
              "      <td>11000</td>\n",
              "      <td>353</td>\n",
              "      <td>1</td>\n",
              "      <td>0</td>\n",
              "    </tr>\n",
              "    <tr>\n",
              "      <th>3</th>\n",
              "      <td>11000</td>\n",
              "      <td>485</td>\n",
              "      <td>1</td>\n",
              "      <td>0</td>\n",
              "    </tr>\n",
              "    <tr>\n",
              "      <th>4</th>\n",
              "      <td>11000</td>\n",
              "      <td>488</td>\n",
              "      <td>1</td>\n",
              "      <td>0</td>\n",
              "    </tr>\n",
              "    <tr>\n",
              "      <th>...</th>\n",
              "      <td>...</td>\n",
              "      <td>...</td>\n",
              "      <td>...</td>\n",
              "      <td>...</td>\n",
              "    </tr>\n",
              "    <tr>\n",
              "      <th>9330053</th>\n",
              "      <td>29480</td>\n",
              "      <td>479</td>\n",
              "      <td>1</td>\n",
              "      <td>0</td>\n",
              "    </tr>\n",
              "    <tr>\n",
              "      <th>9330054</th>\n",
              "      <td>29480</td>\n",
              "      <td>562</td>\n",
              "      <td>1</td>\n",
              "      <td>0</td>\n",
              "    </tr>\n",
              "    <tr>\n",
              "      <th>9330055</th>\n",
              "      <td>29481</td>\n",
              "      <td>349</td>\n",
              "      <td>1</td>\n",
              "      <td>0</td>\n",
              "    </tr>\n",
              "    <tr>\n",
              "      <th>9330056</th>\n",
              "      <td>29482</td>\n",
              "      <td>358</td>\n",
              "      <td>1</td>\n",
              "      <td>0</td>\n",
              "    </tr>\n",
              "    <tr>\n",
              "      <th>9330057</th>\n",
              "      <td>29483</td>\n",
              "      <td>360</td>\n",
              "      <td>1</td>\n",
              "      <td>0</td>\n",
              "    </tr>\n",
              "  </tbody>\n",
              "</table>\n",
              "<p>9330058 rows × 4 columns</p>\n",
              "</div>"
            ],
            "text/plain": [
              "         CustomerKey  ProductKey  OrderQuantity  PurchaseDummy\n",
              "0              11000         214              1              1\n",
              "1              11000         344              1              0\n",
              "2              11000         353              1              0\n",
              "3              11000         485              1              0\n",
              "4              11000         488              1              0\n",
              "...              ...         ...            ...            ...\n",
              "9330053        29480         479              1              0\n",
              "9330054        29480         562              1              0\n",
              "9330055        29481         349              1              0\n",
              "9330056        29482         358              1              0\n",
              "9330057        29483         360              1              0\n",
              "\n",
              "[9330058 rows x 4 columns]"
            ]
          },
          "metadata": {
            "tags": []
          },
          "execution_count": 18
        }
      ]
    },
    {
      "cell_type": "code",
      "metadata": {
        "id": "-zEY5oSge_5Q",
        "colab": {
          "base_uri": "https://localhost:8080/",
          "height": 419
        },
        "outputId": "6b4af4d2-fa54-4b11-a60e-890601a3daf4"
      },
      "source": [
        "customers_quant"
      ],
      "execution_count": null,
      "outputs": [
        {
          "output_type": "execute_result",
          "data": {
            "text/html": [
              "<div>\n",
              "<style scoped>\n",
              "    .dataframe tbody tr th:only-of-type {\n",
              "        vertical-align: middle;\n",
              "    }\n",
              "\n",
              "    .dataframe tbody tr th {\n",
              "        vertical-align: top;\n",
              "    }\n",
              "\n",
              "    .dataframe thead th {\n",
              "        text-align: right;\n",
              "    }\n",
              "</style>\n",
              "<table border=\"1\" class=\"dataframe\">\n",
              "  <thead>\n",
              "    <tr style=\"text-align: right;\">\n",
              "      <th></th>\n",
              "      <th>CustomerKey</th>\n",
              "      <th>ProductKey</th>\n",
              "      <th>OrderQuantity</th>\n",
              "      <th>Pro_dum</th>\n",
              "    </tr>\n",
              "  </thead>\n",
              "  <tbody>\n",
              "    <tr>\n",
              "      <th>0</th>\n",
              "      <td>11000</td>\n",
              "      <td>214</td>\n",
              "      <td>1</td>\n",
              "      <td>214</td>\n",
              "    </tr>\n",
              "    <tr>\n",
              "      <th>1</th>\n",
              "      <td>11000</td>\n",
              "      <td>344</td>\n",
              "      <td>1</td>\n",
              "      <td>344</td>\n",
              "    </tr>\n",
              "    <tr>\n",
              "      <th>2</th>\n",
              "      <td>11000</td>\n",
              "      <td>353</td>\n",
              "      <td>1</td>\n",
              "      <td>353</td>\n",
              "    </tr>\n",
              "    <tr>\n",
              "      <th>3</th>\n",
              "      <td>11000</td>\n",
              "      <td>485</td>\n",
              "      <td>1</td>\n",
              "      <td>485</td>\n",
              "    </tr>\n",
              "    <tr>\n",
              "      <th>4</th>\n",
              "      <td>11000</td>\n",
              "      <td>488</td>\n",
              "      <td>1</td>\n",
              "      <td>488</td>\n",
              "    </tr>\n",
              "    <tr>\n",
              "      <th>...</th>\n",
              "      <td>...</td>\n",
              "      <td>...</td>\n",
              "      <td>...</td>\n",
              "      <td>...</td>\n",
              "    </tr>\n",
              "    <tr>\n",
              "      <th>59046</th>\n",
              "      <td>29480</td>\n",
              "      <td>479</td>\n",
              "      <td>1</td>\n",
              "      <td>479</td>\n",
              "    </tr>\n",
              "    <tr>\n",
              "      <th>59047</th>\n",
              "      <td>29480</td>\n",
              "      <td>562</td>\n",
              "      <td>1</td>\n",
              "      <td>562</td>\n",
              "    </tr>\n",
              "    <tr>\n",
              "      <th>59048</th>\n",
              "      <td>29481</td>\n",
              "      <td>349</td>\n",
              "      <td>1</td>\n",
              "      <td>349</td>\n",
              "    </tr>\n",
              "    <tr>\n",
              "      <th>59049</th>\n",
              "      <td>29482</td>\n",
              "      <td>358</td>\n",
              "      <td>1</td>\n",
              "      <td>358</td>\n",
              "    </tr>\n",
              "    <tr>\n",
              "      <th>59050</th>\n",
              "      <td>29483</td>\n",
              "      <td>360</td>\n",
              "      <td>1</td>\n",
              "      <td>360</td>\n",
              "    </tr>\n",
              "  </tbody>\n",
              "</table>\n",
              "<p>59051 rows × 4 columns</p>\n",
              "</div>"
            ],
            "text/plain": [
              "       CustomerKey  ProductKey  OrderQuantity  Pro_dum\n",
              "0            11000         214              1      214\n",
              "1            11000         344              1      344\n",
              "2            11000         353              1      353\n",
              "3            11000         485              1      485\n",
              "4            11000         488              1      488\n",
              "...            ...         ...            ...      ...\n",
              "59046        29480         479              1      479\n",
              "59047        29480         562              1      562\n",
              "59048        29481         349              1      349\n",
              "59049        29482         358              1      358\n",
              "59050        29483         360              1      360\n",
              "\n",
              "[59051 rows x 4 columns]"
            ]
          },
          "metadata": {
            "tags": []
          },
          "execution_count": 19
        }
      ]
    },
    {
      "cell_type": "code",
      "metadata": {
        "id": "v20o3RpElDt0"
      },
      "source": [
        "#Frequency Normalization"
      ],
      "execution_count": null,
      "outputs": []
    },
    {
      "cell_type": "code",
      "metadata": {
        "id": "gyE-moRZXd6r"
      },
      "source": [
        "customers_quant['Scaled_Frequency'] = customers_quant['OrderQuantity']/customers_quant['ProductKey'].nunique()"
      ],
      "execution_count": null,
      "outputs": []
    },
    {
      "cell_type": "code",
      "metadata": {
        "id": "sLvVOHwoZov8"
      },
      "source": [
        ""
      ],
      "execution_count": null,
      "outputs": []
    },
    {
      "cell_type": "code",
      "metadata": {
        "id": "joiHdPtDjdJv"
      },
      "source": [
        "from sklearn import preprocessing\n",
        "scaler = preprocessing.StandardScaler()\n",
        "scaled_df = scaler.fit_transform(customers_quant[['Scaled_Frequency']])\n",
        "scaled_df = pd.DataFrame(scaled_df)\n",
        "customers_quant['Scaled_Frequency'] = scaled_df[0]"
      ],
      "execution_count": null,
      "outputs": []
    },
    {
      "cell_type": "code",
      "metadata": {
        "id": "Ok99bhuakC0W",
        "colab": {
          "base_uri": "https://localhost:8080/",
          "height": 419
        },
        "outputId": "2a4342e2-d825-4acd-b028-010dc0e9c132"
      },
      "source": [
        "customers_quant"
      ],
      "execution_count": null,
      "outputs": [
        {
          "output_type": "execute_result",
          "data": {
            "text/html": [
              "<div>\n",
              "<style scoped>\n",
              "    .dataframe tbody tr th:only-of-type {\n",
              "        vertical-align: middle;\n",
              "    }\n",
              "\n",
              "    .dataframe tbody tr th {\n",
              "        vertical-align: top;\n",
              "    }\n",
              "\n",
              "    .dataframe thead th {\n",
              "        text-align: right;\n",
              "    }\n",
              "</style>\n",
              "<table border=\"1\" class=\"dataframe\">\n",
              "  <thead>\n",
              "    <tr style=\"text-align: right;\">\n",
              "      <th></th>\n",
              "      <th>CustomerKey</th>\n",
              "      <th>ProductKey</th>\n",
              "      <th>OrderQuantity</th>\n",
              "      <th>Pro_dum</th>\n",
              "      <th>Scaled_Frequency</th>\n",
              "    </tr>\n",
              "  </thead>\n",
              "  <tbody>\n",
              "    <tr>\n",
              "      <th>0</th>\n",
              "      <td>11000</td>\n",
              "      <td>214</td>\n",
              "      <td>1</td>\n",
              "      <td>214</td>\n",
              "      <td>-0.097741</td>\n",
              "    </tr>\n",
              "    <tr>\n",
              "      <th>1</th>\n",
              "      <td>11000</td>\n",
              "      <td>344</td>\n",
              "      <td>1</td>\n",
              "      <td>344</td>\n",
              "      <td>-0.097741</td>\n",
              "    </tr>\n",
              "    <tr>\n",
              "      <th>2</th>\n",
              "      <td>11000</td>\n",
              "      <td>353</td>\n",
              "      <td>1</td>\n",
              "      <td>353</td>\n",
              "      <td>-0.097741</td>\n",
              "    </tr>\n",
              "    <tr>\n",
              "      <th>3</th>\n",
              "      <td>11000</td>\n",
              "      <td>485</td>\n",
              "      <td>1</td>\n",
              "      <td>485</td>\n",
              "      <td>-0.097741</td>\n",
              "    </tr>\n",
              "    <tr>\n",
              "      <th>4</th>\n",
              "      <td>11000</td>\n",
              "      <td>488</td>\n",
              "      <td>1</td>\n",
              "      <td>488</td>\n",
              "      <td>-0.097741</td>\n",
              "    </tr>\n",
              "    <tr>\n",
              "      <th>...</th>\n",
              "      <td>...</td>\n",
              "      <td>...</td>\n",
              "      <td>...</td>\n",
              "      <td>...</td>\n",
              "      <td>...</td>\n",
              "    </tr>\n",
              "    <tr>\n",
              "      <th>59046</th>\n",
              "      <td>29480</td>\n",
              "      <td>479</td>\n",
              "      <td>1</td>\n",
              "      <td>479</td>\n",
              "      <td>-0.097741</td>\n",
              "    </tr>\n",
              "    <tr>\n",
              "      <th>59047</th>\n",
              "      <td>29480</td>\n",
              "      <td>562</td>\n",
              "      <td>1</td>\n",
              "      <td>562</td>\n",
              "      <td>-0.097741</td>\n",
              "    </tr>\n",
              "    <tr>\n",
              "      <th>59048</th>\n",
              "      <td>29481</td>\n",
              "      <td>349</td>\n",
              "      <td>1</td>\n",
              "      <td>349</td>\n",
              "      <td>-0.097741</td>\n",
              "    </tr>\n",
              "    <tr>\n",
              "      <th>59049</th>\n",
              "      <td>29482</td>\n",
              "      <td>358</td>\n",
              "      <td>1</td>\n",
              "      <td>358</td>\n",
              "      <td>-0.097741</td>\n",
              "    </tr>\n",
              "    <tr>\n",
              "      <th>59050</th>\n",
              "      <td>29483</td>\n",
              "      <td>360</td>\n",
              "      <td>1</td>\n",
              "      <td>360</td>\n",
              "      <td>-0.097741</td>\n",
              "    </tr>\n",
              "  </tbody>\n",
              "</table>\n",
              "<p>59051 rows × 5 columns</p>\n",
              "</div>"
            ],
            "text/plain": [
              "       CustomerKey  ProductKey  OrderQuantity  Pro_dum  Scaled_Frequency\n",
              "0            11000         214              1      214         -0.097741\n",
              "1            11000         344              1      344         -0.097741\n",
              "2            11000         353              1      353         -0.097741\n",
              "3            11000         485              1      485         -0.097741\n",
              "4            11000         488              1      488         -0.097741\n",
              "...            ...         ...            ...      ...               ...\n",
              "59046        29480         479              1      479         -0.097741\n",
              "59047        29480         562              1      562         -0.097741\n",
              "59048        29481         349              1      349         -0.097741\n",
              "59049        29482         358              1      358         -0.097741\n",
              "59050        29483         360              1      360         -0.097741\n",
              "\n",
              "[59051 rows x 5 columns]"
            ]
          },
          "metadata": {
            "tags": []
          },
          "execution_count": 23
        }
      ]
    },
    {
      "cell_type": "code",
      "metadata": {
        "id": "pbEoJYqsmo49",
        "colab": {
          "base_uri": "https://localhost:8080/",
          "height": 419
        },
        "outputId": "7fdf7b5c-040b-42ee-9fd7-583e917866e7"
      },
      "source": [
        "purchase_dummy"
      ],
      "execution_count": null,
      "outputs": [
        {
          "output_type": "execute_result",
          "data": {
            "text/html": [
              "<div>\n",
              "<style scoped>\n",
              "    .dataframe tbody tr th:only-of-type {\n",
              "        vertical-align: middle;\n",
              "    }\n",
              "\n",
              "    .dataframe tbody tr th {\n",
              "        vertical-align: top;\n",
              "    }\n",
              "\n",
              "    .dataframe thead th {\n",
              "        text-align: right;\n",
              "    }\n",
              "</style>\n",
              "<table border=\"1\" class=\"dataframe\">\n",
              "  <thead>\n",
              "    <tr style=\"text-align: right;\">\n",
              "      <th></th>\n",
              "      <th>CustomerKey</th>\n",
              "      <th>ProductKey</th>\n",
              "      <th>OrderQuantity</th>\n",
              "      <th>PurchaseDummy</th>\n",
              "    </tr>\n",
              "  </thead>\n",
              "  <tbody>\n",
              "    <tr>\n",
              "      <th>0</th>\n",
              "      <td>11000</td>\n",
              "      <td>214</td>\n",
              "      <td>1</td>\n",
              "      <td>1</td>\n",
              "    </tr>\n",
              "    <tr>\n",
              "      <th>1</th>\n",
              "      <td>11000</td>\n",
              "      <td>344</td>\n",
              "      <td>1</td>\n",
              "      <td>0</td>\n",
              "    </tr>\n",
              "    <tr>\n",
              "      <th>2</th>\n",
              "      <td>11000</td>\n",
              "      <td>353</td>\n",
              "      <td>1</td>\n",
              "      <td>0</td>\n",
              "    </tr>\n",
              "    <tr>\n",
              "      <th>3</th>\n",
              "      <td>11000</td>\n",
              "      <td>485</td>\n",
              "      <td>1</td>\n",
              "      <td>0</td>\n",
              "    </tr>\n",
              "    <tr>\n",
              "      <th>4</th>\n",
              "      <td>11000</td>\n",
              "      <td>488</td>\n",
              "      <td>1</td>\n",
              "      <td>0</td>\n",
              "    </tr>\n",
              "    <tr>\n",
              "      <th>...</th>\n",
              "      <td>...</td>\n",
              "      <td>...</td>\n",
              "      <td>...</td>\n",
              "      <td>...</td>\n",
              "    </tr>\n",
              "    <tr>\n",
              "      <th>9330053</th>\n",
              "      <td>29480</td>\n",
              "      <td>479</td>\n",
              "      <td>1</td>\n",
              "      <td>0</td>\n",
              "    </tr>\n",
              "    <tr>\n",
              "      <th>9330054</th>\n",
              "      <td>29480</td>\n",
              "      <td>562</td>\n",
              "      <td>1</td>\n",
              "      <td>0</td>\n",
              "    </tr>\n",
              "    <tr>\n",
              "      <th>9330055</th>\n",
              "      <td>29481</td>\n",
              "      <td>349</td>\n",
              "      <td>1</td>\n",
              "      <td>0</td>\n",
              "    </tr>\n",
              "    <tr>\n",
              "      <th>9330056</th>\n",
              "      <td>29482</td>\n",
              "      <td>358</td>\n",
              "      <td>1</td>\n",
              "      <td>0</td>\n",
              "    </tr>\n",
              "    <tr>\n",
              "      <th>9330057</th>\n",
              "      <td>29483</td>\n",
              "      <td>360</td>\n",
              "      <td>1</td>\n",
              "      <td>0</td>\n",
              "    </tr>\n",
              "  </tbody>\n",
              "</table>\n",
              "<p>9330058 rows × 4 columns</p>\n",
              "</div>"
            ],
            "text/plain": [
              "         CustomerKey  ProductKey  OrderQuantity  PurchaseDummy\n",
              "0              11000         214              1              1\n",
              "1              11000         344              1              0\n",
              "2              11000         353              1              0\n",
              "3              11000         485              1              0\n",
              "4              11000         488              1              0\n",
              "...              ...         ...            ...            ...\n",
              "9330053        29480         479              1              0\n",
              "9330054        29480         562              1              0\n",
              "9330055        29481         349              1              0\n",
              "9330056        29482         358              1              0\n",
              "9330057        29483         360              1              0\n",
              "\n",
              "[9330058 rows x 4 columns]"
            ]
          },
          "metadata": {
            "tags": []
          },
          "execution_count": 24
        }
      ]
    },
    {
      "cell_type": "code",
      "metadata": {
        "id": "wd3naTxK8PZE"
      },
      "source": [
        "#Convert Purchase count and Freqs Data to SFrame\n",
        "customers_quant_sframe = customers_quant.to_dict(orient='records')\n",
        "customers_quant_sframe = tc.SFrame(customers_quant_sframe)\n",
        "customers_quant_sframe = customers_quant_sframe.unpack('X1', column_name_prefix='')"
      ],
      "execution_count": null,
      "outputs": []
    },
    {
      "cell_type": "code",
      "metadata": {
        "id": "AYJoXvAsXwey"
      },
      "source": [
        "#Convert Purchase Dummy Data to SFrame\n",
        "purchase_dummy = purchase_dummy.to_dict(orient='records')\n",
        "purchase_dummy = tc.SFrame(purchase_dummy)\n",
        "purchase_dummy = purchase_dummy.unpack('X1', column_name_prefix='')"
      ],
      "execution_count": null,
      "outputs": []
    },
    {
      "cell_type": "code",
      "metadata": {
        "id": "HIRQTw__Yx9y"
      },
      "source": [
        ""
      ],
      "execution_count": null,
      "outputs": []
    },
    {
      "cell_type": "code",
      "metadata": {
        "id": "QxFuSGWLJ29r"
      },
      "source": [
        "# customers_quant_sframe.show()"
      ],
      "execution_count": null,
      "outputs": []
    },
    {
      "cell_type": "markdown",
      "metadata": {
        "id": "kJVovTpRGx0B"
      },
      "source": [
        "# Cosine with Purchase Count"
      ]
    },
    {
      "cell_type": "code",
      "metadata": {
        "id": "p99hGLoXtNlu",
        "colab": {
          "base_uri": "https://localhost:8080/",
          "height": 425
        },
        "outputId": "7e5cc58a-9d32-4d25-dae9-217635b38e4d"
      },
      "source": [
        "#Split dataset for Count and Freqs\n",
        "training_data, validation_data = tc.recommender.util.random_split_by_user(customers_quant_sframe, 'CustomerKey', 'ProductKey', item_test_proportion=0.2, random_seed=42)\n",
        "\n",
        "#Build Model using Cosine Similarity\n",
        "cosine_model = tc.item_similarity_recommender.create(training_data,\n",
        "                                    user_id='CustomerKey',  \n",
        "                                    item_id='ProductKey',\n",
        "                                    target='OrderQuantity',\n",
        "                                    similarity_type='cosine')"
      ],
      "execution_count": null,
      "outputs": [
        {
          "output_type": "display_data",
          "data": {
            "text/html": [
              "<pre>Warning: Ignoring columns Pro_dum, Scaled_Frequency;</pre>"
            ],
            "text/plain": [
              "Warning: Ignoring columns Pro_dum, Scaled_Frequency;"
            ]
          },
          "metadata": {
            "tags": []
          }
        },
        {
          "output_type": "display_data",
          "data": {
            "text/html": [
              "<pre>    To use these columns in scoring predictions, use a model that allows the use of additional features.</pre>"
            ],
            "text/plain": [
              "    To use these columns in scoring predictions, use a model that allows the use of additional features."
            ]
          },
          "metadata": {
            "tags": []
          }
        },
        {
          "output_type": "display_data",
          "data": {
            "text/html": [
              "<pre>Preparing data set.</pre>"
            ],
            "text/plain": [
              "Preparing data set."
            ]
          },
          "metadata": {
            "tags": []
          }
        },
        {
          "output_type": "display_data",
          "data": {
            "text/html": [
              "<pre>    Data has 58400 observations with 18459 users and 158 items.</pre>"
            ],
            "text/plain": [
              "    Data has 58400 observations with 18459 users and 158 items."
            ]
          },
          "metadata": {
            "tags": []
          }
        },
        {
          "output_type": "display_data",
          "data": {
            "text/html": [
              "<pre>    Data prepared in: 0.054853s</pre>"
            ],
            "text/plain": [
              "    Data prepared in: 0.054853s"
            ]
          },
          "metadata": {
            "tags": []
          }
        },
        {
          "output_type": "display_data",
          "data": {
            "text/html": [
              "<pre>Training model from provided data.</pre>"
            ],
            "text/plain": [
              "Training model from provided data."
            ]
          },
          "metadata": {
            "tags": []
          }
        },
        {
          "output_type": "display_data",
          "data": {
            "text/html": [
              "<pre>Gathering per-item and per-user statistics.</pre>"
            ],
            "text/plain": [
              "Gathering per-item and per-user statistics."
            ]
          },
          "metadata": {
            "tags": []
          }
        },
        {
          "output_type": "display_data",
          "data": {
            "text/html": [
              "<pre>+--------------------------------+------------+</pre>"
            ],
            "text/plain": [
              "+--------------------------------+------------+"
            ]
          },
          "metadata": {
            "tags": []
          }
        },
        {
          "output_type": "display_data",
          "data": {
            "text/html": [
              "<pre>| Elapsed Time (Item Statistics) | % Complete |</pre>"
            ],
            "text/plain": [
              "| Elapsed Time (Item Statistics) | % Complete |"
            ]
          },
          "metadata": {
            "tags": []
          }
        },
        {
          "output_type": "display_data",
          "data": {
            "text/html": [
              "<pre>+--------------------------------+------------+</pre>"
            ],
            "text/plain": [
              "+--------------------------------+------------+"
            ]
          },
          "metadata": {
            "tags": []
          }
        },
        {
          "output_type": "display_data",
          "data": {
            "text/html": [
              "<pre>| 1.181ms                        | 5.25       |</pre>"
            ],
            "text/plain": [
              "| 1.181ms                        | 5.25       |"
            ]
          },
          "metadata": {
            "tags": []
          }
        },
        {
          "output_type": "display_data",
          "data": {
            "text/html": [
              "<pre>| 10.67ms                        | 100        |</pre>"
            ],
            "text/plain": [
              "| 10.67ms                        | 100        |"
            ]
          },
          "metadata": {
            "tags": []
          }
        },
        {
          "output_type": "display_data",
          "data": {
            "text/html": [
              "<pre>+--------------------------------+------------+</pre>"
            ],
            "text/plain": [
              "+--------------------------------+------------+"
            ]
          },
          "metadata": {
            "tags": []
          }
        },
        {
          "output_type": "display_data",
          "data": {
            "text/html": [
              "<pre>Setting up lookup tables.</pre>"
            ],
            "text/plain": [
              "Setting up lookup tables."
            ]
          },
          "metadata": {
            "tags": []
          }
        },
        {
          "output_type": "display_data",
          "data": {
            "text/html": [
              "<pre>Processing data in one pass using dense lookup tables.</pre>"
            ],
            "text/plain": [
              "Processing data in one pass using dense lookup tables."
            ]
          },
          "metadata": {
            "tags": []
          }
        },
        {
          "output_type": "display_data",
          "data": {
            "text/html": [
              "<pre>+-------------------------------------+------------------+-----------------+</pre>"
            ],
            "text/plain": [
              "+-------------------------------------+------------------+-----------------+"
            ]
          },
          "metadata": {
            "tags": []
          }
        },
        {
          "output_type": "display_data",
          "data": {
            "text/html": [
              "<pre>| Elapsed Time (Constructing Lookups) | Total % Complete | Items Processed |</pre>"
            ],
            "text/plain": [
              "| Elapsed Time (Constructing Lookups) | Total % Complete | Items Processed |"
            ]
          },
          "metadata": {
            "tags": []
          }
        },
        {
          "output_type": "display_data",
          "data": {
            "text/html": [
              "<pre>+-------------------------------------+------------------+-----------------+</pre>"
            ],
            "text/plain": [
              "+-------------------------------------+------------------+-----------------+"
            ]
          },
          "metadata": {
            "tags": []
          }
        },
        {
          "output_type": "display_data",
          "data": {
            "text/html": [
              "<pre>| 19.481ms                            | 0                | 0               |</pre>"
            ],
            "text/plain": [
              "| 19.481ms                            | 0                | 0               |"
            ]
          },
          "metadata": {
            "tags": []
          }
        },
        {
          "output_type": "display_data",
          "data": {
            "text/html": [
              "<pre>| 35.529ms                            | 100              | 158             |</pre>"
            ],
            "text/plain": [
              "| 35.529ms                            | 100              | 158             |"
            ]
          },
          "metadata": {
            "tags": []
          }
        },
        {
          "output_type": "display_data",
          "data": {
            "text/html": [
              "<pre>+-------------------------------------+------------------+-----------------+</pre>"
            ],
            "text/plain": [
              "+-------------------------------------+------------------+-----------------+"
            ]
          },
          "metadata": {
            "tags": []
          }
        },
        {
          "output_type": "display_data",
          "data": {
            "text/html": [
              "<pre>Finalizing lookup tables.</pre>"
            ],
            "text/plain": [
              "Finalizing lookup tables."
            ]
          },
          "metadata": {
            "tags": []
          }
        },
        {
          "output_type": "display_data",
          "data": {
            "text/html": [
              "<pre>Generating candidate set for working with new users.</pre>"
            ],
            "text/plain": [
              "Generating candidate set for working with new users."
            ]
          },
          "metadata": {
            "tags": []
          }
        },
        {
          "output_type": "display_data",
          "data": {
            "text/html": [
              "<pre>Finished training in 1.05421s</pre>"
            ],
            "text/plain": [
              "Finished training in 1.05421s"
            ]
          },
          "metadata": {
            "tags": []
          }
        }
      ]
    },
    {
      "cell_type": "code",
      "metadata": {
        "id": "dqHyzVxVLrHK",
        "colab": {
          "base_uri": "https://localhost:8080/"
        },
        "outputId": "974effbb-0ba9-4adb-aa12-e3a16a99e7af"
      },
      "source": [
        "cosine_eval = cosine_model.evaluate(validation_data)"
      ],
      "execution_count": null,
      "outputs": [
        {
          "output_type": "stream",
          "text": [
            "\n",
            "Precision and recall summary statistics by cutoff\n",
            "+--------+---------------------+---------------------+\n",
            "| cutoff |    mean_precision   |     mean_recall     |\n",
            "+--------+---------------------+---------------------+\n",
            "|   1    |  0.3068669527896995 | 0.22378397711015735 |\n",
            "|   2    | 0.20815450643776823 |  0.2943133047210301 |\n",
            "|   3    | 0.15951359084406286 |  0.3438483547925607 |\n",
            "|   4    | 0.13948497854077246 |  0.3983905579399141 |\n",
            "|   5    |  0.1218884120171674 |  0.4359442060085837 |\n",
            "|   6    | 0.10872675250357657 |  0.4661659513590844 |\n",
            "|   7    | 0.09993868792152055 |  0.4988912732474966 |\n",
            "|   8    | 0.09066523605150213 |  0.5173104434907014 |\n",
            "|   9    | 0.08273724368144969 |  0.5259656652360516 |\n",
            "|   10   |  0.0757510729613734 |  0.5349785407725323 |\n",
            "+--------+---------------------+---------------------+\n",
            "[10 rows x 3 columns]\n",
            "\n",
            "\n",
            "Overall RMSE: 0.89552234754043\n",
            "\n",
            "Per User RMSE (best)\n",
            "+-------------+---------------------+-------+\n",
            "| CustomerKey |         rmse        | count |\n",
            "+-------------+---------------------+-------+\n",
            "|    20779    | 0.38644087314605713 |   1   |\n",
            "+-------------+---------------------+-------+\n",
            "[1 rows x 3 columns]\n",
            "\n",
            "\n",
            "Per User RMSE (worst)\n",
            "+-------------+--------------------+-------+\n",
            "| CustomerKey |        rmse        | count |\n",
            "+-------------+--------------------+-------+\n",
            "|    15310    | 1.9989302760953596 |   2   |\n",
            "+-------------+--------------------+-------+\n",
            "[1 rows x 3 columns]\n",
            "\n",
            "\n",
            "Per Item RMSE (best)\n",
            "+------------+--------------------+-------+\n",
            "| ProductKey |        rmse        | count |\n",
            "+------------+--------------------+-------+\n",
            "|    478     | 0.6865238026360458 |   20  |\n",
            "+------------+--------------------+-------+\n",
            "[1 rows x 3 columns]\n",
            "\n",
            "\n",
            "Per Item RMSE (worst)\n",
            "+------------+--------------------+-------+\n",
            "| ProductKey |        rmse        | count |\n",
            "+------------+--------------------+-------+\n",
            "|    465     | 1.2107890460989066 |   4   |\n",
            "+------------+--------------------+-------+\n",
            "[1 rows x 3 columns]\n",
            "\n"
          ],
          "name": "stdout"
        }
      ]
    },
    {
      "cell_type": "markdown",
      "metadata": {
        "id": "YcJHsT-aIw52"
      },
      "source": [
        "# Pearson with Purchase Count"
      ]
    },
    {
      "cell_type": "code",
      "metadata": {
        "id": "9q2NGGUl3pwO",
        "colab": {
          "base_uri": "https://localhost:8080/",
          "height": 425
        },
        "outputId": "460a082f-f5b3-45d4-bb14-408517864dcc"
      },
      "source": [
        "#Build Model using Pearson Similarity\n",
        "pearson_model = tc.item_similarity_recommender.create(training_data,\n",
        "                                    user_id='CustomerKey',  \n",
        "                                    item_id='ProductKey',\n",
        "                                    target='OrderQuantity',\n",
        "                                    similarity_type='pearson')"
      ],
      "execution_count": null,
      "outputs": [
        {
          "output_type": "display_data",
          "data": {
            "text/html": [
              "<pre>Warning: Ignoring columns Pro_dum, Scaled_Frequency;</pre>"
            ],
            "text/plain": [
              "Warning: Ignoring columns Pro_dum, Scaled_Frequency;"
            ]
          },
          "metadata": {
            "tags": []
          }
        },
        {
          "output_type": "display_data",
          "data": {
            "text/html": [
              "<pre>    To use these columns in scoring predictions, use a model that allows the use of additional features.</pre>"
            ],
            "text/plain": [
              "    To use these columns in scoring predictions, use a model that allows the use of additional features."
            ]
          },
          "metadata": {
            "tags": []
          }
        },
        {
          "output_type": "display_data",
          "data": {
            "text/html": [
              "<pre>Preparing data set.</pre>"
            ],
            "text/plain": [
              "Preparing data set."
            ]
          },
          "metadata": {
            "tags": []
          }
        },
        {
          "output_type": "display_data",
          "data": {
            "text/html": [
              "<pre>    Data has 58400 observations with 18459 users and 158 items.</pre>"
            ],
            "text/plain": [
              "    Data has 58400 observations with 18459 users and 158 items."
            ]
          },
          "metadata": {
            "tags": []
          }
        },
        {
          "output_type": "display_data",
          "data": {
            "text/html": [
              "<pre>    Data prepared in: 0.069044s</pre>"
            ],
            "text/plain": [
              "    Data prepared in: 0.069044s"
            ]
          },
          "metadata": {
            "tags": []
          }
        },
        {
          "output_type": "display_data",
          "data": {
            "text/html": [
              "<pre>Training model from provided data.</pre>"
            ],
            "text/plain": [
              "Training model from provided data."
            ]
          },
          "metadata": {
            "tags": []
          }
        },
        {
          "output_type": "display_data",
          "data": {
            "text/html": [
              "<pre>Gathering per-item and per-user statistics.</pre>"
            ],
            "text/plain": [
              "Gathering per-item and per-user statistics."
            ]
          },
          "metadata": {
            "tags": []
          }
        },
        {
          "output_type": "display_data",
          "data": {
            "text/html": [
              "<pre>+--------------------------------+------------+</pre>"
            ],
            "text/plain": [
              "+--------------------------------+------------+"
            ]
          },
          "metadata": {
            "tags": []
          }
        },
        {
          "output_type": "display_data",
          "data": {
            "text/html": [
              "<pre>| Elapsed Time (Item Statistics) | % Complete |</pre>"
            ],
            "text/plain": [
              "| Elapsed Time (Item Statistics) | % Complete |"
            ]
          },
          "metadata": {
            "tags": []
          }
        },
        {
          "output_type": "display_data",
          "data": {
            "text/html": [
              "<pre>+--------------------------------+------------+</pre>"
            ],
            "text/plain": [
              "+--------------------------------+------------+"
            ]
          },
          "metadata": {
            "tags": []
          }
        },
        {
          "output_type": "display_data",
          "data": {
            "text/html": [
              "<pre>| 1.412ms                        | 5.25       |</pre>"
            ],
            "text/plain": [
              "| 1.412ms                        | 5.25       |"
            ]
          },
          "metadata": {
            "tags": []
          }
        },
        {
          "output_type": "display_data",
          "data": {
            "text/html": [
              "<pre>| 18.445ms                       | 100        |</pre>"
            ],
            "text/plain": [
              "| 18.445ms                       | 100        |"
            ]
          },
          "metadata": {
            "tags": []
          }
        },
        {
          "output_type": "display_data",
          "data": {
            "text/html": [
              "<pre>+--------------------------------+------------+</pre>"
            ],
            "text/plain": [
              "+--------------------------------+------------+"
            ]
          },
          "metadata": {
            "tags": []
          }
        },
        {
          "output_type": "display_data",
          "data": {
            "text/html": [
              "<pre>Setting up lookup tables.</pre>"
            ],
            "text/plain": [
              "Setting up lookup tables."
            ]
          },
          "metadata": {
            "tags": []
          }
        },
        {
          "output_type": "display_data",
          "data": {
            "text/html": [
              "<pre>Processing data in one pass using dense lookup tables.</pre>"
            ],
            "text/plain": [
              "Processing data in one pass using dense lookup tables."
            ]
          },
          "metadata": {
            "tags": []
          }
        },
        {
          "output_type": "display_data",
          "data": {
            "text/html": [
              "<pre>+-------------------------------------+------------------+-----------------+</pre>"
            ],
            "text/plain": [
              "+-------------------------------------+------------------+-----------------+"
            ]
          },
          "metadata": {
            "tags": []
          }
        },
        {
          "output_type": "display_data",
          "data": {
            "text/html": [
              "<pre>| Elapsed Time (Constructing Lookups) | Total % Complete | Items Processed |</pre>"
            ],
            "text/plain": [
              "| Elapsed Time (Constructing Lookups) | Total % Complete | Items Processed |"
            ]
          },
          "metadata": {
            "tags": []
          }
        },
        {
          "output_type": "display_data",
          "data": {
            "text/html": [
              "<pre>+-------------------------------------+------------------+-----------------+</pre>"
            ],
            "text/plain": [
              "+-------------------------------------+------------------+-----------------+"
            ]
          },
          "metadata": {
            "tags": []
          }
        },
        {
          "output_type": "display_data",
          "data": {
            "text/html": [
              "<pre>| 28.949ms                            | 0                | 0               |</pre>"
            ],
            "text/plain": [
              "| 28.949ms                            | 0                | 0               |"
            ]
          },
          "metadata": {
            "tags": []
          }
        },
        {
          "output_type": "display_data",
          "data": {
            "text/html": [
              "<pre>| 51.462ms                            | 100              | 158             |</pre>"
            ],
            "text/plain": [
              "| 51.462ms                            | 100              | 158             |"
            ]
          },
          "metadata": {
            "tags": []
          }
        },
        {
          "output_type": "display_data",
          "data": {
            "text/html": [
              "<pre>+-------------------------------------+------------------+-----------------+</pre>"
            ],
            "text/plain": [
              "+-------------------------------------+------------------+-----------------+"
            ]
          },
          "metadata": {
            "tags": []
          }
        },
        {
          "output_type": "display_data",
          "data": {
            "text/html": [
              "<pre>Finalizing lookup tables.</pre>"
            ],
            "text/plain": [
              "Finalizing lookup tables."
            ]
          },
          "metadata": {
            "tags": []
          }
        },
        {
          "output_type": "display_data",
          "data": {
            "text/html": [
              "<pre>Generating candidate set for working with new users.</pre>"
            ],
            "text/plain": [
              "Generating candidate set for working with new users."
            ]
          },
          "metadata": {
            "tags": []
          }
        },
        {
          "output_type": "display_data",
          "data": {
            "text/html": [
              "<pre>Finished training in 0.061613s</pre>"
            ],
            "text/plain": [
              "Finished training in 0.061613s"
            ]
          },
          "metadata": {
            "tags": []
          }
        }
      ]
    },
    {
      "cell_type": "code",
      "metadata": {
        "id": "Egmmtm873yu2",
        "colab": {
          "base_uri": "https://localhost:8080/"
        },
        "outputId": "1180a3f8-d399-4879-9bac-732cfd196fb2"
      },
      "source": [
        "pearson_eval = pearson_model.evaluate(validation_data)"
      ],
      "execution_count": null,
      "outputs": [
        {
          "output_type": "stream",
          "text": [
            "\n",
            "Precision and recall summary statistics by cutoff\n",
            "+--------+----------------------+----------------------+\n",
            "| cutoff |    mean_precision    |     mean_recall      |\n",
            "+--------+----------------------+----------------------+\n",
            "|   1    | 0.051502145922746795 | 0.034155937052932746 |\n",
            "|   2    | 0.045064377682403435 |  0.0621244635193133  |\n",
            "|   3    | 0.04220314735336195  | 0.08608726752503576  |\n",
            "|   4    | 0.04452789699570815  | 0.12525035765379108  |\n",
            "|   5    | 0.043776824034334756 | 0.15475679542203152  |\n",
            "|   6    | 0.049713876967095845 |  0.2082260371959943  |\n",
            "|   7    | 0.049356223175965656 | 0.24370529327610863  |\n",
            "|   8    | 0.04560085836909871  |  0.2551502145922746  |\n",
            "|   9    | 0.04220314735336192  |   0.26552217453505   |\n",
            "|   10   | 0.04098712446351933  | 0.28769670958512156  |\n",
            "+--------+----------------------+----------------------+\n",
            "[10 rows x 3 columns]\n",
            "\n",
            "\n",
            "Overall RMSE: 0.13715777113553612\n",
            "\n",
            "Per User RMSE (best)\n",
            "+-------------+------+-------+\n",
            "| CustomerKey | rmse | count |\n",
            "+-------------+------+-------+\n",
            "|    23406    | 0.0  |   1   |\n",
            "+-------------+------+-------+\n",
            "[1 rows x 3 columns]\n",
            "\n",
            "\n",
            "Per User RMSE (worst)\n",
            "+-------------+--------------------+-------+\n",
            "| CustomerKey |        rmse        | count |\n",
            "+-------------+--------------------+-------+\n",
            "|    15310    | 1.3674190510097104 |   2   |\n",
            "+-------------+--------------------+-------+\n",
            "[1 rows x 3 columns]\n",
            "\n",
            "\n",
            "Per Item RMSE (best)\n",
            "+------------+------+-------+\n",
            "| ProductKey | rmse | count |\n",
            "+------------+------+-------+\n",
            "|    604     | 0.0  |   5   |\n",
            "+------------+------+-------+\n",
            "[1 rows x 3 columns]\n",
            "\n",
            "\n",
            "Per Item RMSE (worst)\n",
            "+------------+---------------------+-------+\n",
            "| ProductKey |         rmse        | count |\n",
            "+------------+---------------------+-------+\n",
            "|    465     | 0.44864279947418634 |   4   |\n",
            "+------------+---------------------+-------+\n",
            "[1 rows x 3 columns]\n",
            "\n"
          ],
          "name": "stdout"
        }
      ]
    },
    {
      "cell_type": "markdown",
      "metadata": {
        "id": "WksXoaqsJKWx"
      },
      "source": [
        "# Popularity with Purchase Count"
      ]
    },
    {
      "cell_type": "code",
      "metadata": {
        "id": "B_IFjiRN4yIs",
        "colab": {
          "base_uri": "https://localhost:8080/",
          "height": 119
        },
        "outputId": "985e22de-f4dc-4abf-d1c5-76e21be35cf8"
      },
      "source": [
        "\n",
        "#Build a Popularity Model\n",
        "popularity_model = tc.recommender.popularity_recommender.create(training_data,\n",
        "                                                                user_id='CustomerKey',\n",
        "                                                                item_id='ProductKey',\n",
        "                                                                target='OrderQuantity',\n",
        "                                                                random_seed=2020)"
      ],
      "execution_count": null,
      "outputs": [
        {
          "output_type": "display_data",
          "data": {
            "text/html": [
              "<pre>Warning: Ignoring columns Pro_dum, Scaled_Frequency;</pre>"
            ],
            "text/plain": [
              "Warning: Ignoring columns Pro_dum, Scaled_Frequency;"
            ]
          },
          "metadata": {
            "tags": []
          }
        },
        {
          "output_type": "display_data",
          "data": {
            "text/html": [
              "<pre>    To use these columns in scoring predictions, use a model that allows the use of additional features.</pre>"
            ],
            "text/plain": [
              "    To use these columns in scoring predictions, use a model that allows the use of additional features."
            ]
          },
          "metadata": {
            "tags": []
          }
        },
        {
          "output_type": "display_data",
          "data": {
            "text/html": [
              "<pre>Preparing data set.</pre>"
            ],
            "text/plain": [
              "Preparing data set."
            ]
          },
          "metadata": {
            "tags": []
          }
        },
        {
          "output_type": "display_data",
          "data": {
            "text/html": [
              "<pre>    Data has 58400 observations with 18459 users and 158 items.</pre>"
            ],
            "text/plain": [
              "    Data has 58400 observations with 18459 users and 158 items."
            ]
          },
          "metadata": {
            "tags": []
          }
        },
        {
          "output_type": "display_data",
          "data": {
            "text/html": [
              "<pre>    Data prepared in: 0.066618s</pre>"
            ],
            "text/plain": [
              "    Data prepared in: 0.066618s"
            ]
          },
          "metadata": {
            "tags": []
          }
        },
        {
          "output_type": "display_data",
          "data": {
            "text/html": [
              "<pre>58400 observations to process; with 158 unique items.</pre>"
            ],
            "text/plain": [
              "58400 observations to process; with 158 unique items."
            ]
          },
          "metadata": {
            "tags": []
          }
        }
      ]
    },
    {
      "cell_type": "code",
      "metadata": {
        "id": "MnFXgW755SZa",
        "colab": {
          "base_uri": "https://localhost:8080/"
        },
        "outputId": "168fe3d7-efe0-45c8-95af-70db6c30780e"
      },
      "source": [
        "popularity_eval = popularity_model.evaluate(validation_data)"
      ],
      "execution_count": null,
      "outputs": [
        {
          "output_type": "stream",
          "text": [
            "\n",
            "Precision and recall summary statistics by cutoff\n",
            "+--------+----------------------+---------------------+\n",
            "| cutoff |    mean_precision    |     mean_recall     |\n",
            "+--------+----------------------+---------------------+\n",
            "|   1    | 0.06437768240343346  | 0.04327610872675251 |\n",
            "|   2    | 0.048283261802575125 | 0.06695278969957082 |\n",
            "|   3    | 0.04363376251788269  | 0.08930615164520746 |\n",
            "|   4    | 0.04345493562231761  |  0.1209585121602289 |\n",
            "|   5    | 0.04892703862660942  | 0.16859799713876966 |\n",
            "|   6    | 0.05901287553648067  | 0.24907010014306155 |\n",
            "|   7    | 0.05702023298589823  |  0.2830472103004291 |\n",
            "|   8    |  0.0523068669527897  | 0.29806866952789696 |\n",
            "|   9    | 0.047925608011444874 |  0.3077253218884121 |\n",
            "|   10   | 0.04849785407725318  | 0.34724606580829764 |\n",
            "+--------+----------------------+---------------------+\n",
            "[10 rows x 3 columns]\n",
            "\n",
            "\n",
            "Overall RMSE: 0.13923879794732041\n",
            "\n",
            "Per User RMSE (best)\n",
            "+-------------+------+-------+\n",
            "| CustomerKey | rmse | count |\n",
            "+-------------+------+-------+\n",
            "|    23406    | 0.0  |   1   |\n",
            "+-------------+------+-------+\n",
            "[1 rows x 3 columns]\n",
            "\n",
            "\n",
            "Per User RMSE (worst)\n",
            "+-------------+--------------------+-------+\n",
            "| CustomerKey |        rmse        | count |\n",
            "+-------------+--------------------+-------+\n",
            "|    15310    | 1.3569868833536145 |   2   |\n",
            "+-------------+--------------------+-------+\n",
            "[1 rows x 3 columns]\n",
            "\n",
            "\n",
            "Per Item RMSE (best)\n",
            "+------------+------+-------+\n",
            "| ProductKey | rmse | count |\n",
            "+------------+------+-------+\n",
            "|    604     | 0.0  |   5   |\n",
            "+------------+------+-------+\n",
            "[1 rows x 3 columns]\n",
            "\n",
            "\n",
            "Per Item RMSE (worst)\n",
            "+------------+---------------------+-------+\n",
            "| ProductKey |         rmse        | count |\n",
            "+------------+---------------------+-------+\n",
            "|    465     | 0.48999622947243837 |   4   |\n",
            "+------------+---------------------+-------+\n",
            "[1 rows x 3 columns]\n",
            "\n"
          ],
          "name": "stdout"
        }
      ]
    },
    {
      "cell_type": "markdown",
      "metadata": {
        "id": "2mL9dzQrJ7I9"
      },
      "source": [
        "# Cosine with Purchase Dummy"
      ]
    },
    {
      "cell_type": "code",
      "metadata": {
        "id": "wcnstAPftvHF",
        "colab": {
          "base_uri": "https://localhost:8080/",
          "height": 279
        },
        "outputId": "5f2ab6d2-1fc9-4ee5-ee63-43838ee232da"
      },
      "source": [
        "purchase_dummy"
      ],
      "execution_count": null,
      "outputs": [
        {
          "output_type": "execute_result",
          "data": {
            "text/html": [
              "<div style=\"max-height:1000px;max-width:1500px;overflow:auto;\"><table frame=\"box\" rules=\"cols\">\n",
              "    <tr>\n",
              "        <th style=\"padding-left: 1em; padding-right: 1em; text-align: center\">CustomerKey</th>\n",
              "        <th style=\"padding-left: 1em; padding-right: 1em; text-align: center\">OrderQuantity</th>\n",
              "        <th style=\"padding-left: 1em; padding-right: 1em; text-align: center\">ProductKey</th>\n",
              "        <th style=\"padding-left: 1em; padding-right: 1em; text-align: center\">PurchaseDummy</th>\n",
              "    </tr>\n",
              "    <tr>\n",
              "        <td style=\"padding-left: 1em; padding-right: 1em; text-align: center; vertical-align: top\">11000</td>\n",
              "        <td style=\"padding-left: 1em; padding-right: 1em; text-align: center; vertical-align: top\">1</td>\n",
              "        <td style=\"padding-left: 1em; padding-right: 1em; text-align: center; vertical-align: top\">214</td>\n",
              "        <td style=\"padding-left: 1em; padding-right: 1em; text-align: center; vertical-align: top\">1</td>\n",
              "    </tr>\n",
              "    <tr>\n",
              "        <td style=\"padding-left: 1em; padding-right: 1em; text-align: center; vertical-align: top\">11000</td>\n",
              "        <td style=\"padding-left: 1em; padding-right: 1em; text-align: center; vertical-align: top\">1</td>\n",
              "        <td style=\"padding-left: 1em; padding-right: 1em; text-align: center; vertical-align: top\">344</td>\n",
              "        <td style=\"padding-left: 1em; padding-right: 1em; text-align: center; vertical-align: top\">0</td>\n",
              "    </tr>\n",
              "    <tr>\n",
              "        <td style=\"padding-left: 1em; padding-right: 1em; text-align: center; vertical-align: top\">11000</td>\n",
              "        <td style=\"padding-left: 1em; padding-right: 1em; text-align: center; vertical-align: top\">1</td>\n",
              "        <td style=\"padding-left: 1em; padding-right: 1em; text-align: center; vertical-align: top\">353</td>\n",
              "        <td style=\"padding-left: 1em; padding-right: 1em; text-align: center; vertical-align: top\">0</td>\n",
              "    </tr>\n",
              "    <tr>\n",
              "        <td style=\"padding-left: 1em; padding-right: 1em; text-align: center; vertical-align: top\">11000</td>\n",
              "        <td style=\"padding-left: 1em; padding-right: 1em; text-align: center; vertical-align: top\">1</td>\n",
              "        <td style=\"padding-left: 1em; padding-right: 1em; text-align: center; vertical-align: top\">485</td>\n",
              "        <td style=\"padding-left: 1em; padding-right: 1em; text-align: center; vertical-align: top\">0</td>\n",
              "    </tr>\n",
              "    <tr>\n",
              "        <td style=\"padding-left: 1em; padding-right: 1em; text-align: center; vertical-align: top\">11000</td>\n",
              "        <td style=\"padding-left: 1em; padding-right: 1em; text-align: center; vertical-align: top\">1</td>\n",
              "        <td style=\"padding-left: 1em; padding-right: 1em; text-align: center; vertical-align: top\">488</td>\n",
              "        <td style=\"padding-left: 1em; padding-right: 1em; text-align: center; vertical-align: top\">0</td>\n",
              "    </tr>\n",
              "    <tr>\n",
              "        <td style=\"padding-left: 1em; padding-right: 1em; text-align: center; vertical-align: top\">11000</td>\n",
              "        <td style=\"padding-left: 1em; padding-right: 1em; text-align: center; vertical-align: top\">1</td>\n",
              "        <td style=\"padding-left: 1em; padding-right: 1em; text-align: center; vertical-align: top\">530</td>\n",
              "        <td style=\"padding-left: 1em; padding-right: 1em; text-align: center; vertical-align: top\">0</td>\n",
              "    </tr>\n",
              "    <tr>\n",
              "        <td style=\"padding-left: 1em; padding-right: 1em; text-align: center; vertical-align: top\">11000</td>\n",
              "        <td style=\"padding-left: 1em; padding-right: 1em; text-align: center; vertical-align: top\">1</td>\n",
              "        <td style=\"padding-left: 1em; padding-right: 1em; text-align: center; vertical-align: top\">541</td>\n",
              "        <td style=\"padding-left: 1em; padding-right: 1em; text-align: center; vertical-align: top\">0</td>\n",
              "    </tr>\n",
              "    <tr>\n",
              "        <td style=\"padding-left: 1em; padding-right: 1em; text-align: center; vertical-align: top\">11000</td>\n",
              "        <td style=\"padding-left: 1em; padding-right: 1em; text-align: center; vertical-align: top\">1</td>\n",
              "        <td style=\"padding-left: 1em; padding-right: 1em; text-align: center; vertical-align: top\">573</td>\n",
              "        <td style=\"padding-left: 1em; padding-right: 1em; text-align: center; vertical-align: top\">0</td>\n",
              "    </tr>\n",
              "    <tr>\n",
              "        <td style=\"padding-left: 1em; padding-right: 1em; text-align: center; vertical-align: top\">11001</td>\n",
              "        <td style=\"padding-left: 1em; padding-right: 1em; text-align: center; vertical-align: top\">1</td>\n",
              "        <td style=\"padding-left: 1em; padding-right: 1em; text-align: center; vertical-align: top\">217</td>\n",
              "        <td style=\"padding-left: 1em; padding-right: 1em; text-align: center; vertical-align: top\">0</td>\n",
              "    </tr>\n",
              "    <tr>\n",
              "        <td style=\"padding-left: 1em; padding-right: 1em; text-align: center; vertical-align: top\">11001</td>\n",
              "        <td style=\"padding-left: 1em; padding-right: 1em; text-align: center; vertical-align: top\">1</td>\n",
              "        <td style=\"padding-left: 1em; padding-right: 1em; text-align: center; vertical-align: top\">225</td>\n",
              "        <td style=\"padding-left: 1em; padding-right: 1em; text-align: center; vertical-align: top\">0</td>\n",
              "    </tr>\n",
              "</table>\n",
              "[9330058 rows x 4 columns]<br/>Note: Only the head of the SFrame is printed.<br/>You can use print_rows(num_rows=m, num_columns=n) to print more rows and columns.\n",
              "</div>"
            ],
            "text/plain": [
              "Columns:\n",
              "\tCustomerKey\tint\n",
              "\tOrderQuantity\tint\n",
              "\tProductKey\tint\n",
              "\tPurchaseDummy\tint\n",
              "\n",
              "Rows: 9330058\n",
              "\n",
              "Data:\n",
              "+-------------+---------------+------------+---------------+\n",
              "| CustomerKey | OrderQuantity | ProductKey | PurchaseDummy |\n",
              "+-------------+---------------+------------+---------------+\n",
              "|    11000    |       1       |    214     |       1       |\n",
              "|    11000    |       1       |    344     |       0       |\n",
              "|    11000    |       1       |    353     |       0       |\n",
              "|    11000    |       1       |    485     |       0       |\n",
              "|    11000    |       1       |    488     |       0       |\n",
              "|    11000    |       1       |    530     |       0       |\n",
              "|    11000    |       1       |    541     |       0       |\n",
              "|    11000    |       1       |    573     |       0       |\n",
              "|    11001    |       1       |    217     |       0       |\n",
              "|    11001    |       1       |    225     |       0       |\n",
              "+-------------+---------------+------------+---------------+\n",
              "[9330058 rows x 4 columns]\n",
              "Note: Only the head of the SFrame is printed.\n",
              "You can use print_rows(num_rows=m, num_columns=n) to print more rows and columns."
            ]
          },
          "metadata": {
            "tags": []
          },
          "execution_count": 75
        }
      ]
    },
    {
      "cell_type": "code",
      "metadata": {
        "id": "JQc8BuLjOGgT"
      },
      "source": [
        "#Split dataset for dummy\n",
        "training_data_dum, validation_data_dum = tc.recommender.util.random_split_by_user(purchase_dummy, 'CustomerKey', 'ProductKey', item_test_proportion=0.2, random_seed=42)\n",
        "# user_data_dum = training_data_dum[['CustomerKey','OrderQuantity']]\n"
      ],
      "execution_count": null,
      "outputs": []
    },
    {
      "cell_type": "code",
      "metadata": {
        "id": "gY4qwqBBeAcD",
        "colab": {
          "base_uri": "https://localhost:8080/",
          "height": 425
        },
        "outputId": "9bedbffd-f388-460b-f925-5e46d0f36f48"
      },
      "source": [
        "#Build Model using Cosine Similarity\n",
        "cosine_model_dum = tc.item_similarity_recommender.create(training_data_dum,\n",
        "                                    user_id='CustomerKey',  \n",
        "                                    item_id='ProductKey',\n",
        "                                    target='PurchaseDummy',\n",
        "                                    # user_data=user_data_dum,\n",
        "                                    similarity_type='cosine')"
      ],
      "execution_count": null,
      "outputs": [
        {
          "output_type": "display_data",
          "data": {
            "text/html": [
              "<pre>Warning: Ignoring columns OrderQuantity;</pre>"
            ],
            "text/plain": [
              "Warning: Ignoring columns OrderQuantity;"
            ]
          },
          "metadata": {
            "tags": []
          }
        },
        {
          "output_type": "display_data",
          "data": {
            "text/html": [
              "<pre>    To use these columns in scoring predictions, use a model that allows the use of additional features.</pre>"
            ],
            "text/plain": [
              "    To use these columns in scoring predictions, use a model that allows the use of additional features."
            ]
          },
          "metadata": {
            "tags": []
          }
        },
        {
          "output_type": "display_data",
          "data": {
            "text/html": [
              "<pre>Preparing data set.</pre>"
            ],
            "text/plain": [
              "Preparing data set."
            ]
          },
          "metadata": {
            "tags": []
          }
        },
        {
          "output_type": "display_data",
          "data": {
            "text/html": [
              "<pre>    Data has 9229452 observations with 18484 users and 158 items.</pre>"
            ],
            "text/plain": [
              "    Data has 9229452 observations with 18484 users and 158 items."
            ]
          },
          "metadata": {
            "tags": []
          }
        },
        {
          "output_type": "display_data",
          "data": {
            "text/html": [
              "<pre>    Data prepared in: 7.22239s</pre>"
            ],
            "text/plain": [
              "    Data prepared in: 7.22239s"
            ]
          },
          "metadata": {
            "tags": []
          }
        },
        {
          "output_type": "display_data",
          "data": {
            "text/html": [
              "<pre>Training model from provided data.</pre>"
            ],
            "text/plain": [
              "Training model from provided data."
            ]
          },
          "metadata": {
            "tags": []
          }
        },
        {
          "output_type": "display_data",
          "data": {
            "text/html": [
              "<pre>Gathering per-item and per-user statistics.</pre>"
            ],
            "text/plain": [
              "Gathering per-item and per-user statistics."
            ]
          },
          "metadata": {
            "tags": []
          }
        },
        {
          "output_type": "display_data",
          "data": {
            "text/html": [
              "<pre>+--------------------------------+------------+</pre>"
            ],
            "text/plain": [
              "+--------------------------------+------------+"
            ]
          },
          "metadata": {
            "tags": []
          }
        },
        {
          "output_type": "display_data",
          "data": {
            "text/html": [
              "<pre>| Elapsed Time (Item Statistics) | % Complete |</pre>"
            ],
            "text/plain": [
              "| Elapsed Time (Item Statistics) | % Complete |"
            ]
          },
          "metadata": {
            "tags": []
          }
        },
        {
          "output_type": "display_data",
          "data": {
            "text/html": [
              "<pre>+--------------------------------+------------+</pre>"
            ],
            "text/plain": [
              "+--------------------------------+------------+"
            ]
          },
          "metadata": {
            "tags": []
          }
        },
        {
          "output_type": "display_data",
          "data": {
            "text/html": [
              "<pre>| 13.715ms                       | 5.25       |</pre>"
            ],
            "text/plain": [
              "| 13.715ms                       | 5.25       |"
            ]
          },
          "metadata": {
            "tags": []
          }
        },
        {
          "output_type": "display_data",
          "data": {
            "text/html": [
              "<pre>| 20.711ms                       | 100        |</pre>"
            ],
            "text/plain": [
              "| 20.711ms                       | 100        |"
            ]
          },
          "metadata": {
            "tags": []
          }
        },
        {
          "output_type": "display_data",
          "data": {
            "text/html": [
              "<pre>+--------------------------------+------------+</pre>"
            ],
            "text/plain": [
              "+--------------------------------+------------+"
            ]
          },
          "metadata": {
            "tags": []
          }
        },
        {
          "output_type": "display_data",
          "data": {
            "text/html": [
              "<pre>Setting up lookup tables.</pre>"
            ],
            "text/plain": [
              "Setting up lookup tables."
            ]
          },
          "metadata": {
            "tags": []
          }
        },
        {
          "output_type": "display_data",
          "data": {
            "text/html": [
              "<pre>Processing data in one pass using dense lookup tables.</pre>"
            ],
            "text/plain": [
              "Processing data in one pass using dense lookup tables."
            ]
          },
          "metadata": {
            "tags": []
          }
        },
        {
          "output_type": "display_data",
          "data": {
            "text/html": [
              "<pre>+-------------------------------------+------------------+-----------------+</pre>"
            ],
            "text/plain": [
              "+-------------------------------------+------------------+-----------------+"
            ]
          },
          "metadata": {
            "tags": []
          }
        },
        {
          "output_type": "display_data",
          "data": {
            "text/html": [
              "<pre>| Elapsed Time (Constructing Lookups) | Total % Complete | Items Processed |</pre>"
            ],
            "text/plain": [
              "| Elapsed Time (Constructing Lookups) | Total % Complete | Items Processed |"
            ]
          },
          "metadata": {
            "tags": []
          }
        },
        {
          "output_type": "display_data",
          "data": {
            "text/html": [
              "<pre>+-------------------------------------+------------------+-----------------+</pre>"
            ],
            "text/plain": [
              "+-------------------------------------+------------------+-----------------+"
            ]
          },
          "metadata": {
            "tags": []
          }
        },
        {
          "output_type": "display_data",
          "data": {
            "text/html": [
              "<pre>| 31.235ms                            | 0                | 0               |</pre>"
            ],
            "text/plain": [
              "| 31.235ms                            | 0                | 0               |"
            ]
          },
          "metadata": {
            "tags": []
          }
        },
        {
          "output_type": "display_data",
          "data": {
            "text/html": [
              "<pre>| 47.785ms                            | 100              | 158             |</pre>"
            ],
            "text/plain": [
              "| 47.785ms                            | 100              | 158             |"
            ]
          },
          "metadata": {
            "tags": []
          }
        },
        {
          "output_type": "display_data",
          "data": {
            "text/html": [
              "<pre>+-------------------------------------+------------------+-----------------+</pre>"
            ],
            "text/plain": [
              "+-------------------------------------+------------------+-----------------+"
            ]
          },
          "metadata": {
            "tags": []
          }
        },
        {
          "output_type": "display_data",
          "data": {
            "text/html": [
              "<pre>Finalizing lookup tables.</pre>"
            ],
            "text/plain": [
              "Finalizing lookup tables."
            ]
          },
          "metadata": {
            "tags": []
          }
        },
        {
          "output_type": "display_data",
          "data": {
            "text/html": [
              "<pre>Generating candidate set for working with new users.</pre>"
            ],
            "text/plain": [
              "Generating candidate set for working with new users."
            ]
          },
          "metadata": {
            "tags": []
          }
        },
        {
          "output_type": "display_data",
          "data": {
            "text/html": [
              "<pre>Finished training in 0.429266s</pre>"
            ],
            "text/plain": [
              "Finished training in 0.429266s"
            ]
          },
          "metadata": {
            "tags": []
          }
        }
      ]
    },
    {
      "cell_type": "code",
      "metadata": {
        "id": "M1Czkf2LrrCs",
        "colab": {
          "base_uri": "https://localhost:8080/",
          "height": 986
        },
        "outputId": "98649f3e-086f-4e97-9bf2-f290a0046ddf"
      },
      "source": [
        "cosine_eval_dum = cosine_model_dum.evaluate(validation_data_dum)"
      ],
      "execution_count": null,
      "outputs": [
        {
          "output_type": "display_data",
          "data": {
            "text/html": [
              "<pre>recommendations finished on 1000/1000 queries. users per second: 67934.8</pre>"
            ],
            "text/plain": [
              "recommendations finished on 1000/1000 queries. users per second: 67934.8"
            ]
          },
          "metadata": {
            "tags": []
          }
        },
        {
          "output_type": "stream",
          "text": [
            "\n",
            "Precision and recall summary statistics by cutoff\n",
            "+--------+----------------+-------------+\n",
            "| cutoff | mean_precision | mean_recall |\n",
            "+--------+----------------+-------------+\n",
            "|   1    |      0.0       |     0.0     |\n",
            "|   2    |      0.0       |     0.0     |\n",
            "|   3    |      0.0       |     0.0     |\n",
            "|   4    |      0.0       |     0.0     |\n",
            "|   5    |      0.0       |     0.0     |\n",
            "|   6    |      0.0       |     0.0     |\n",
            "|   7    |      0.0       |     0.0     |\n",
            "|   8    |      0.0       |     0.0     |\n",
            "|   9    |      0.0       |     0.0     |\n",
            "|   10   |      0.0       |     0.0     |\n",
            "+--------+----------------+-------------+\n",
            "[10 rows x 3 columns]\n",
            "\n",
            "\n",
            "Overall RMSE: 0.07959602383417265\n",
            "\n",
            "Per User RMSE (best)\n",
            "+-------------+------+-------+\n",
            "| CustomerKey | rmse | count |\n",
            "+-------------+------+-------+\n",
            "|    23838    | 0.0  |   40  |\n",
            "+-------------+------+-------+\n",
            "[1 rows x 3 columns]\n",
            "\n",
            "\n",
            "Per User RMSE (worst)\n",
            "+-------------+---------------------+-------+\n",
            "| CustomerKey |         rmse        | count |\n",
            "+-------------+---------------------+-------+\n",
            "|    23814    | 0.22360679774997896 |   20  |\n",
            "+-------------+---------------------+-------+\n",
            "[1 rows x 3 columns]\n",
            "\n",
            "\n",
            "Per Item RMSE (best)\n",
            "+------------+------+-------+\n",
            "| ProductKey | rmse | count |\n",
            "+------------+------+-------+\n",
            "|    341     | 0.0  |   26  |\n",
            "+------------+------+-------+\n",
            "[1 rows x 3 columns]\n",
            "\n",
            "\n",
            "Per Item RMSE (worst)\n",
            "+------------+--------------------+-------+\n",
            "| ProductKey |        rmse        | count |\n",
            "+------------+--------------------+-------+\n",
            "|    328     | 0.2041241452319315 |   48  |\n",
            "+------------+--------------------+-------+\n",
            "[1 rows x 3 columns]\n",
            "\n"
          ],
          "name": "stdout"
        }
      ]
    },
    {
      "cell_type": "markdown",
      "metadata": {
        "id": "ni8cwru8hive"
      },
      "source": [
        "# Pearson with Purchase Dummy"
      ]
    },
    {
      "cell_type": "code",
      "metadata": {
        "id": "pEzQ_wWThDCv",
        "colab": {
          "base_uri": "https://localhost:8080/",
          "height": 425
        },
        "outputId": "47bb8528-3cf9-41b4-d673-00c239d61566"
      },
      "source": [
        "#Build Model using Pearson Similarity\n",
        "pearson_model_dum = tc.item_similarity_recommender.create(training_data_dum,\n",
        "                                    user_id='CustomerKey',  \n",
        "                                    item_id='ProductKey',\n",
        "                                    target='PurchaseDummy',\n",
        "                                    # user_data=user_data_dum,\n",
        "                                    similarity_type='pearson')"
      ],
      "execution_count": null,
      "outputs": [
        {
          "output_type": "display_data",
          "data": {
            "text/html": [
              "<pre>Warning: Ignoring columns OrderQuantity;</pre>"
            ],
            "text/plain": [
              "Warning: Ignoring columns OrderQuantity;"
            ]
          },
          "metadata": {
            "tags": []
          }
        },
        {
          "output_type": "display_data",
          "data": {
            "text/html": [
              "<pre>    To use these columns in scoring predictions, use a model that allows the use of additional features.</pre>"
            ],
            "text/plain": [
              "    To use these columns in scoring predictions, use a model that allows the use of additional features."
            ]
          },
          "metadata": {
            "tags": []
          }
        },
        {
          "output_type": "display_data",
          "data": {
            "text/html": [
              "<pre>Preparing data set.</pre>"
            ],
            "text/plain": [
              "Preparing data set."
            ]
          },
          "metadata": {
            "tags": []
          }
        },
        {
          "output_type": "display_data",
          "data": {
            "text/html": [
              "<pre>    Data has 9229452 observations with 18484 users and 158 items.</pre>"
            ],
            "text/plain": [
              "    Data has 9229452 observations with 18484 users and 158 items."
            ]
          },
          "metadata": {
            "tags": []
          }
        },
        {
          "output_type": "display_data",
          "data": {
            "text/html": [
              "<pre>    Data prepared in: 7.1576s</pre>"
            ],
            "text/plain": [
              "    Data prepared in: 7.1576s"
            ]
          },
          "metadata": {
            "tags": []
          }
        },
        {
          "output_type": "display_data",
          "data": {
            "text/html": [
              "<pre>Training model from provided data.</pre>"
            ],
            "text/plain": [
              "Training model from provided data."
            ]
          },
          "metadata": {
            "tags": []
          }
        },
        {
          "output_type": "display_data",
          "data": {
            "text/html": [
              "<pre>Gathering per-item and per-user statistics.</pre>"
            ],
            "text/plain": [
              "Gathering per-item and per-user statistics."
            ]
          },
          "metadata": {
            "tags": []
          }
        },
        {
          "output_type": "display_data",
          "data": {
            "text/html": [
              "<pre>+--------------------------------+------------+</pre>"
            ],
            "text/plain": [
              "+--------------------------------+------------+"
            ]
          },
          "metadata": {
            "tags": []
          }
        },
        {
          "output_type": "display_data",
          "data": {
            "text/html": [
              "<pre>| Elapsed Time (Item Statistics) | % Complete |</pre>"
            ],
            "text/plain": [
              "| Elapsed Time (Item Statistics) | % Complete |"
            ]
          },
          "metadata": {
            "tags": []
          }
        },
        {
          "output_type": "display_data",
          "data": {
            "text/html": [
              "<pre>+--------------------------------+------------+</pre>"
            ],
            "text/plain": [
              "+--------------------------------+------------+"
            ]
          },
          "metadata": {
            "tags": []
          }
        },
        {
          "output_type": "display_data",
          "data": {
            "text/html": [
              "<pre>| 13.846ms                       | 5.25       |</pre>"
            ],
            "text/plain": [
              "| 13.846ms                       | 5.25       |"
            ]
          },
          "metadata": {
            "tags": []
          }
        },
        {
          "output_type": "display_data",
          "data": {
            "text/html": [
              "<pre>| 22.078ms                       | 100        |</pre>"
            ],
            "text/plain": [
              "| 22.078ms                       | 100        |"
            ]
          },
          "metadata": {
            "tags": []
          }
        },
        {
          "output_type": "display_data",
          "data": {
            "text/html": [
              "<pre>+--------------------------------+------------+</pre>"
            ],
            "text/plain": [
              "+--------------------------------+------------+"
            ]
          },
          "metadata": {
            "tags": []
          }
        },
        {
          "output_type": "display_data",
          "data": {
            "text/html": [
              "<pre>Setting up lookup tables.</pre>"
            ],
            "text/plain": [
              "Setting up lookup tables."
            ]
          },
          "metadata": {
            "tags": []
          }
        },
        {
          "output_type": "display_data",
          "data": {
            "text/html": [
              "<pre>Processing data in one pass using dense lookup tables.</pre>"
            ],
            "text/plain": [
              "Processing data in one pass using dense lookup tables."
            ]
          },
          "metadata": {
            "tags": []
          }
        },
        {
          "output_type": "display_data",
          "data": {
            "text/html": [
              "<pre>+-------------------------------------+------------------+-----------------+</pre>"
            ],
            "text/plain": [
              "+-------------------------------------+------------------+-----------------+"
            ]
          },
          "metadata": {
            "tags": []
          }
        },
        {
          "output_type": "display_data",
          "data": {
            "text/html": [
              "<pre>| Elapsed Time (Constructing Lookups) | Total % Complete | Items Processed |</pre>"
            ],
            "text/plain": [
              "| Elapsed Time (Constructing Lookups) | Total % Complete | Items Processed |"
            ]
          },
          "metadata": {
            "tags": []
          }
        },
        {
          "output_type": "display_data",
          "data": {
            "text/html": [
              "<pre>+-------------------------------------+------------------+-----------------+</pre>"
            ],
            "text/plain": [
              "+-------------------------------------+------------------+-----------------+"
            ]
          },
          "metadata": {
            "tags": []
          }
        },
        {
          "output_type": "display_data",
          "data": {
            "text/html": [
              "<pre>| 23.912ms                            | 0                | 0               |</pre>"
            ],
            "text/plain": [
              "| 23.912ms                            | 0                | 0               |"
            ]
          },
          "metadata": {
            "tags": []
          }
        },
        {
          "output_type": "display_data",
          "data": {
            "text/html": [
              "<pre>| 40.679ms                            | 100              | 158             |</pre>"
            ],
            "text/plain": [
              "| 40.679ms                            | 100              | 158             |"
            ]
          },
          "metadata": {
            "tags": []
          }
        },
        {
          "output_type": "display_data",
          "data": {
            "text/html": [
              "<pre>+-------------------------------------+------------------+-----------------+</pre>"
            ],
            "text/plain": [
              "+-------------------------------------+------------------+-----------------+"
            ]
          },
          "metadata": {
            "tags": []
          }
        },
        {
          "output_type": "display_data",
          "data": {
            "text/html": [
              "<pre>Finalizing lookup tables.</pre>"
            ],
            "text/plain": [
              "Finalizing lookup tables."
            ]
          },
          "metadata": {
            "tags": []
          }
        },
        {
          "output_type": "display_data",
          "data": {
            "text/html": [
              "<pre>Generating candidate set for working with new users.</pre>"
            ],
            "text/plain": [
              "Generating candidate set for working with new users."
            ]
          },
          "metadata": {
            "tags": []
          }
        },
        {
          "output_type": "display_data",
          "data": {
            "text/html": [
              "<pre>Finished training in 0.421438s</pre>"
            ],
            "text/plain": [
              "Finished training in 0.421438s"
            ]
          },
          "metadata": {
            "tags": []
          }
        }
      ]
    },
    {
      "cell_type": "code",
      "metadata": {
        "id": "0WMoskzbyxOr",
        "colab": {
          "base_uri": "https://localhost:8080/",
          "height": 986
        },
        "outputId": "c31640bd-d855-47e9-c05a-b3914db4132d"
      },
      "source": [
        "pearson_eval_dum = pearson_model_dum.evaluate(validation_data_dum)"
      ],
      "execution_count": null,
      "outputs": [
        {
          "output_type": "display_data",
          "data": {
            "text/html": [
              "<pre>recommendations finished on 1000/1000 queries. users per second: 56967.1</pre>"
            ],
            "text/plain": [
              "recommendations finished on 1000/1000 queries. users per second: 56967.1"
            ]
          },
          "metadata": {
            "tags": []
          }
        },
        {
          "output_type": "stream",
          "text": [
            "\n",
            "Precision and recall summary statistics by cutoff\n",
            "+--------+----------------+-------------+\n",
            "| cutoff | mean_precision | mean_recall |\n",
            "+--------+----------------+-------------+\n",
            "|   1    |      0.0       |     0.0     |\n",
            "|   2    |      0.0       |     0.0     |\n",
            "|   3    |      0.0       |     0.0     |\n",
            "|   4    |      0.0       |     0.0     |\n",
            "|   5    |      0.0       |     0.0     |\n",
            "|   6    |      0.0       |     0.0     |\n",
            "|   7    |      0.0       |     0.0     |\n",
            "|   8    |      0.0       |     0.0     |\n",
            "|   9    |      0.0       |     0.0     |\n",
            "|   10   |      0.0       |     0.0     |\n",
            "+--------+----------------+-------------+\n",
            "[10 rows x 3 columns]\n",
            "\n",
            "\n",
            "Overall RMSE: 0.079388753345016\n",
            "\n",
            "Per User RMSE (best)\n",
            "+-------------+----------------------+-------+\n",
            "| CustomerKey |         rmse         | count |\n",
            "+-------------+----------------------+-------+\n",
            "|    28166    | 0.006237182517135713 |   32  |\n",
            "+-------------+----------------------+-------+\n",
            "[1 rows x 3 columns]\n",
            "\n",
            "\n",
            "Per User RMSE (worst)\n",
            "+-------------+---------------------+-------+\n",
            "| CustomerKey |         rmse        | count |\n",
            "+-------------+---------------------+-------+\n",
            "|    20762    | 0.22247230725806827 |   40  |\n",
            "+-------------+---------------------+-------+\n",
            "[1 rows x 3 columns]\n",
            "\n",
            "\n",
            "Per Item RMSE (best)\n",
            "+------------+---------------------+-------+\n",
            "| ProductKey |         rmse        | count |\n",
            "+------------+---------------------+-------+\n",
            "|    370     | 0.00639766788158295 |   87  |\n",
            "+------------+---------------------+-------+\n",
            "[1 rows x 3 columns]\n",
            "\n",
            "\n",
            "Per Item RMSE (worst)\n",
            "+------------+---------------------+-------+\n",
            "| ProductKey |         rmse        | count |\n",
            "+------------+---------------------+-------+\n",
            "|    328     | 0.20301217633367402 |   48  |\n",
            "+------------+---------------------+-------+\n",
            "[1 rows x 3 columns]\n",
            "\n"
          ],
          "name": "stdout"
        }
      ]
    },
    {
      "cell_type": "markdown",
      "metadata": {
        "id": "ZgZnHgU8hln1"
      },
      "source": [
        "# Popularity with Purchase Dummy"
      ]
    },
    {
      "cell_type": "code",
      "metadata": {
        "id": "_Vw81rtshJk7",
        "colab": {
          "base_uri": "https://localhost:8080/",
          "height": 119
        },
        "outputId": "333fa35b-fd91-4224-bcbc-514e21bf40dc"
      },
      "source": [
        "#Build a Popularity Model\n",
        "popularity_model = tc.recommender.popularity_recommender.create(training_data_dum,\n",
        "                                                                user_id='CustomerKey',\n",
        "                                                                item_id='ProductKey',\n",
        "                                                                target='PurchaseDummy',\n",
        "                                                                # user_data=user_data_dum,\n",
        "                                                                random_seed=2020)"
      ],
      "execution_count": null,
      "outputs": [
        {
          "output_type": "display_data",
          "data": {
            "text/html": [
              "<pre>Warning: Ignoring columns OrderQuantity;</pre>"
            ],
            "text/plain": [
              "Warning: Ignoring columns OrderQuantity;"
            ]
          },
          "metadata": {
            "tags": []
          }
        },
        {
          "output_type": "display_data",
          "data": {
            "text/html": [
              "<pre>    To use these columns in scoring predictions, use a model that allows the use of additional features.</pre>"
            ],
            "text/plain": [
              "    To use these columns in scoring predictions, use a model that allows the use of additional features."
            ]
          },
          "metadata": {
            "tags": []
          }
        },
        {
          "output_type": "display_data",
          "data": {
            "text/html": [
              "<pre>Preparing data set.</pre>"
            ],
            "text/plain": [
              "Preparing data set."
            ]
          },
          "metadata": {
            "tags": []
          }
        },
        {
          "output_type": "display_data",
          "data": {
            "text/html": [
              "<pre>    Data has 9229452 observations with 18484 users and 158 items.</pre>"
            ],
            "text/plain": [
              "    Data has 9229452 observations with 18484 users and 158 items."
            ]
          },
          "metadata": {
            "tags": []
          }
        },
        {
          "output_type": "display_data",
          "data": {
            "text/html": [
              "<pre>    Data prepared in: 8.48149s</pre>"
            ],
            "text/plain": [
              "    Data prepared in: 8.48149s"
            ]
          },
          "metadata": {
            "tags": []
          }
        },
        {
          "output_type": "display_data",
          "data": {
            "text/html": [
              "<pre>9229452 observations to process; with 158 unique items.</pre>"
            ],
            "text/plain": [
              "9229452 observations to process; with 158 unique items."
            ]
          },
          "metadata": {
            "tags": []
          }
        }
      ]
    },
    {
      "cell_type": "code",
      "metadata": {
        "id": "6i6P8ASF1A0t",
        "colab": {
          "base_uri": "https://localhost:8080/",
          "height": 986
        },
        "outputId": "9847d49a-d07e-4c97-e71f-9c52b6db8ab1"
      },
      "source": [
        "popularity_eval_dum = popularity_model.evaluate(validation_data_dum)"
      ],
      "execution_count": null,
      "outputs": [
        {
          "output_type": "display_data",
          "data": {
            "text/html": [
              "<pre>recommendations finished on 1000/1000 queries. users per second: 76493.5</pre>"
            ],
            "text/plain": [
              "recommendations finished on 1000/1000 queries. users per second: 76493.5"
            ]
          },
          "metadata": {
            "tags": []
          }
        },
        {
          "output_type": "stream",
          "text": [
            "\n",
            "Precision and recall summary statistics by cutoff\n",
            "+--------+----------------+-------------+\n",
            "| cutoff | mean_precision | mean_recall |\n",
            "+--------+----------------+-------------+\n",
            "|   1    |      0.0       |     0.0     |\n",
            "|   2    |      0.0       |     0.0     |\n",
            "|   3    |      0.0       |     0.0     |\n",
            "|   4    |      0.0       |     0.0     |\n",
            "|   5    |      0.0       |     0.0     |\n",
            "|   6    |      0.0       |     0.0     |\n",
            "|   7    |      0.0       |     0.0     |\n",
            "|   8    |      0.0       |     0.0     |\n",
            "|   9    |      0.0       |     0.0     |\n",
            "|   10   |      0.0       |     0.0     |\n",
            "+--------+----------------+-------------+\n",
            "[10 rows x 3 columns]\n",
            "\n",
            "\n",
            "Overall RMSE: 0.07938219124111892\n",
            "\n",
            "Per User RMSE (best)\n",
            "+-------------+----------------------+-------+\n",
            "| CustomerKey |         rmse         | count |\n",
            "+-------------+----------------------+-------+\n",
            "|    28166    | 0.006256765533665294 |   32  |\n",
            "+-------------+----------------------+-------+\n",
            "[1 rows x 3 columns]\n",
            "\n",
            "\n",
            "Per User RMSE (worst)\n",
            "+-------------+---------------------+-------+\n",
            "| CustomerKey |         rmse        | count |\n",
            "+-------------+---------------------+-------+\n",
            "|    20762    | 0.22227964275019158 |   40  |\n",
            "+-------------+---------------------+-------+\n",
            "[1 rows x 3 columns]\n",
            "\n",
            "\n",
            "Per Item RMSE (best)\n",
            "+------------+----------------------+-------+\n",
            "| ProductKey |         rmse         | count |\n",
            "+------------+----------------------+-------+\n",
            "|    567     | 0.006340400237765007 |   18  |\n",
            "+------------+----------------------+-------+\n",
            "[1 rows x 3 columns]\n",
            "\n",
            "\n",
            "Per Item RMSE (worst)\n",
            "+------------+---------------------+-------+\n",
            "| ProductKey |         rmse        | count |\n",
            "+------------+---------------------+-------+\n",
            "|    328     | 0.20299999914329925 |   48  |\n",
            "+------------+---------------------+-------+\n",
            "[1 rows x 3 columns]\n",
            "\n"
          ],
          "name": "stdout"
        }
      ]
    },
    {
      "cell_type": "markdown",
      "metadata": {
        "id": "yBDEfgMYiGoX"
      },
      "source": [
        "# Cosine with Scaled Frequency"
      ]
    },
    {
      "cell_type": "code",
      "metadata": {
        "id": "wC_XRQhF1Aai"
      },
      "source": [
        ""
      ],
      "execution_count": null,
      "outputs": []
    },
    {
      "cell_type": "code",
      "metadata": {
        "id": "otswCwOxhWcM",
        "colab": {
          "base_uri": "https://localhost:8080/",
          "height": 425
        },
        "outputId": "286db3d2-b0a6-4d60-ebf0-d07ad6e8f856"
      },
      "source": [
        "#Split dataset for Count and Freqs\n",
        "training_data_freq, validation_data_freq = tc.recommender.util.random_split_by_user(customers_quant_sframe, 'CustomerKey', 'ProductKey', item_test_proportion=0.2, random_seed=42)\n",
        "\n",
        "#Build Model using Cosine Similarity\n",
        "cosine_model_freq = tc.item_similarity_recommender.create(training_data_freq,\n",
        "                                    user_id='CustomerKey',  \n",
        "                                    item_id='ProductKey',\n",
        "                                    target='Scaled_Frequency',\n",
        "                                    similarity_type='cosine')"
      ],
      "execution_count": null,
      "outputs": [
        {
          "output_type": "display_data",
          "data": {
            "text/html": [
              "<pre>Warning: Ignoring columns OrderQuantity, Pro_dum;</pre>"
            ],
            "text/plain": [
              "Warning: Ignoring columns OrderQuantity, Pro_dum;"
            ]
          },
          "metadata": {
            "tags": []
          }
        },
        {
          "output_type": "display_data",
          "data": {
            "text/html": [
              "<pre>    To use these columns in scoring predictions, use a model that allows the use of additional features.</pre>"
            ],
            "text/plain": [
              "    To use these columns in scoring predictions, use a model that allows the use of additional features."
            ]
          },
          "metadata": {
            "tags": []
          }
        },
        {
          "output_type": "display_data",
          "data": {
            "text/html": [
              "<pre>Preparing data set.</pre>"
            ],
            "text/plain": [
              "Preparing data set."
            ]
          },
          "metadata": {
            "tags": []
          }
        },
        {
          "output_type": "display_data",
          "data": {
            "text/html": [
              "<pre>    Data has 58400 observations with 18459 users and 158 items.</pre>"
            ],
            "text/plain": [
              "    Data has 58400 observations with 18459 users and 158 items."
            ]
          },
          "metadata": {
            "tags": []
          }
        },
        {
          "output_type": "display_data",
          "data": {
            "text/html": [
              "<pre>    Data prepared in: 0.071732s</pre>"
            ],
            "text/plain": [
              "    Data prepared in: 0.071732s"
            ]
          },
          "metadata": {
            "tags": []
          }
        },
        {
          "output_type": "display_data",
          "data": {
            "text/html": [
              "<pre>Training model from provided data.</pre>"
            ],
            "text/plain": [
              "Training model from provided data."
            ]
          },
          "metadata": {
            "tags": []
          }
        },
        {
          "output_type": "display_data",
          "data": {
            "text/html": [
              "<pre>Gathering per-item and per-user statistics.</pre>"
            ],
            "text/plain": [
              "Gathering per-item and per-user statistics."
            ]
          },
          "metadata": {
            "tags": []
          }
        },
        {
          "output_type": "display_data",
          "data": {
            "text/html": [
              "<pre>+--------------------------------+------------+</pre>"
            ],
            "text/plain": [
              "+--------------------------------+------------+"
            ]
          },
          "metadata": {
            "tags": []
          }
        },
        {
          "output_type": "display_data",
          "data": {
            "text/html": [
              "<pre>| Elapsed Time (Item Statistics) | % Complete |</pre>"
            ],
            "text/plain": [
              "| Elapsed Time (Item Statistics) | % Complete |"
            ]
          },
          "metadata": {
            "tags": []
          }
        },
        {
          "output_type": "display_data",
          "data": {
            "text/html": [
              "<pre>+--------------------------------+------------+</pre>"
            ],
            "text/plain": [
              "+--------------------------------+------------+"
            ]
          },
          "metadata": {
            "tags": []
          }
        },
        {
          "output_type": "display_data",
          "data": {
            "text/html": [
              "<pre>| 1.572ms                        | 5.25       |</pre>"
            ],
            "text/plain": [
              "| 1.572ms                        | 5.25       |"
            ]
          },
          "metadata": {
            "tags": []
          }
        },
        {
          "output_type": "display_data",
          "data": {
            "text/html": [
              "<pre>| 16.626ms                       | 100        |</pre>"
            ],
            "text/plain": [
              "| 16.626ms                       | 100        |"
            ]
          },
          "metadata": {
            "tags": []
          }
        },
        {
          "output_type": "display_data",
          "data": {
            "text/html": [
              "<pre>+--------------------------------+------------+</pre>"
            ],
            "text/plain": [
              "+--------------------------------+------------+"
            ]
          },
          "metadata": {
            "tags": []
          }
        },
        {
          "output_type": "display_data",
          "data": {
            "text/html": [
              "<pre>Setting up lookup tables.</pre>"
            ],
            "text/plain": [
              "Setting up lookup tables."
            ]
          },
          "metadata": {
            "tags": []
          }
        },
        {
          "output_type": "display_data",
          "data": {
            "text/html": [
              "<pre>Processing data in one pass using dense lookup tables.</pre>"
            ],
            "text/plain": [
              "Processing data in one pass using dense lookup tables."
            ]
          },
          "metadata": {
            "tags": []
          }
        },
        {
          "output_type": "display_data",
          "data": {
            "text/html": [
              "<pre>+-------------------------------------+------------------+-----------------+</pre>"
            ],
            "text/plain": [
              "+-------------------------------------+------------------+-----------------+"
            ]
          },
          "metadata": {
            "tags": []
          }
        },
        {
          "output_type": "display_data",
          "data": {
            "text/html": [
              "<pre>| Elapsed Time (Constructing Lookups) | Total % Complete | Items Processed |</pre>"
            ],
            "text/plain": [
              "| Elapsed Time (Constructing Lookups) | Total % Complete | Items Processed |"
            ]
          },
          "metadata": {
            "tags": []
          }
        },
        {
          "output_type": "display_data",
          "data": {
            "text/html": [
              "<pre>+-------------------------------------+------------------+-----------------+</pre>"
            ],
            "text/plain": [
              "+-------------------------------------+------------------+-----------------+"
            ]
          },
          "metadata": {
            "tags": []
          }
        },
        {
          "output_type": "display_data",
          "data": {
            "text/html": [
              "<pre>| 19.076ms                            | 0                | 0               |</pre>"
            ],
            "text/plain": [
              "| 19.076ms                            | 0                | 0               |"
            ]
          },
          "metadata": {
            "tags": []
          }
        },
        {
          "output_type": "display_data",
          "data": {
            "text/html": [
              "<pre>| 41.943ms                            | 100              | 158             |</pre>"
            ],
            "text/plain": [
              "| 41.943ms                            | 100              | 158             |"
            ]
          },
          "metadata": {
            "tags": []
          }
        },
        {
          "output_type": "display_data",
          "data": {
            "text/html": [
              "<pre>+-------------------------------------+------------------+-----------------+</pre>"
            ],
            "text/plain": [
              "+-------------------------------------+------------------+-----------------+"
            ]
          },
          "metadata": {
            "tags": []
          }
        },
        {
          "output_type": "display_data",
          "data": {
            "text/html": [
              "<pre>Finalizing lookup tables.</pre>"
            ],
            "text/plain": [
              "Finalizing lookup tables."
            ]
          },
          "metadata": {
            "tags": []
          }
        },
        {
          "output_type": "display_data",
          "data": {
            "text/html": [
              "<pre>Generating candidate set for working with new users.</pre>"
            ],
            "text/plain": [
              "Generating candidate set for working with new users."
            ]
          },
          "metadata": {
            "tags": []
          }
        },
        {
          "output_type": "display_data",
          "data": {
            "text/html": [
              "<pre>Finished training in 0.057974s</pre>"
            ],
            "text/plain": [
              "Finished training in 0.057974s"
            ]
          },
          "metadata": {
            "tags": []
          }
        }
      ]
    },
    {
      "cell_type": "code",
      "metadata": {
        "id": "hY4hjgs2lpvd",
        "colab": {
          "base_uri": "https://localhost:8080/"
        },
        "outputId": "d55a0546-2425-4c45-8f61-56e520c4177d"
      },
      "source": [
        "cosine_eval_freq = cosine_model_freq.evaluate(validation_data_freq)"
      ],
      "execution_count": null,
      "outputs": [
        {
          "output_type": "stream",
          "text": [
            "\n",
            "Precision and recall summary statistics by cutoff\n",
            "+--------+----------------------+----------------------+\n",
            "| cutoff |    mean_precision    |     mean_recall      |\n",
            "+--------+----------------------+----------------------+\n",
            "|   1    | 0.010729613733905583 | 0.009298998569384837 |\n",
            "|   2    | 0.007510729613733905 | 0.010801144492131614 |\n",
            "|   3    | 0.006437768240343349 | 0.013662374821173103 |\n",
            "|   4    | 0.006974248927038629 | 0.019027181688125894 |\n",
            "|   5    | 0.006437768240343347 | 0.023319027181688136 |\n",
            "|   6    | 0.006080114449213162 | 0.027610872675250357 |\n",
            "|   7    | 0.006131207847946042 | 0.03233190271816881  |\n",
            "|   8    | 0.006974248927038628 | 0.039306151645207434 |\n",
            "|   9    | 0.006914639961850264 | 0.04359799713876965  |\n",
            "|   10   | 0.006866952789699572 | 0.04788984263233191  |\n",
            "+--------+----------------------+----------------------+\n",
            "[10 rows x 3 columns]\n",
            "\n",
            "\n",
            "Overall RMSE: 0.5848713443290944\n",
            "\n",
            "Per User RMSE (best)\n",
            "+-------------+----------------------+-------+\n",
            "| CustomerKey |         rmse         | count |\n",
            "+-------------+----------------------+-------+\n",
            "|    24626    | 0.015893902248187444 |   1   |\n",
            "+-------------+----------------------+-------+\n",
            "[1 rows x 3 columns]\n",
            "\n",
            "\n",
            "Per User RMSE (worst)\n",
            "+-------------+-------------------+-------+\n",
            "| CustomerKey |        rmse       | count |\n",
            "+-------------+-------------------+-------+\n",
            "|    15310    | 6.015041791613496 |   2   |\n",
            "+-------------+-------------------+-------+\n",
            "[1 rows x 3 columns]\n",
            "\n",
            "\n",
            "Per Item RMSE (best)\n",
            "+------------+---------------------+-------+\n",
            "| ProductKey |         rmse        | count |\n",
            "+------------+---------------------+-------+\n",
            "|    535     | 0.05091225542937464 |   6   |\n",
            "+------------+---------------------+-------+\n",
            "[1 rows x 3 columns]\n",
            "\n",
            "\n",
            "Per Item RMSE (worst)\n",
            "+------------+--------------------+-------+\n",
            "| ProductKey |        rmse        | count |\n",
            "+------------+--------------------+-------+\n",
            "|    465     | 1.9126529239789163 |   4   |\n",
            "+------------+--------------------+-------+\n",
            "[1 rows x 3 columns]\n",
            "\n"
          ],
          "name": "stdout"
        }
      ]
    },
    {
      "cell_type": "markdown",
      "metadata": {
        "id": "nToFt4_Ylyba"
      },
      "source": [
        "# Pearson with Scaled Frequency"
      ]
    },
    {
      "cell_type": "code",
      "metadata": {
        "id": "dXVug5wtlXXs",
        "colab": {
          "base_uri": "https://localhost:8080/",
          "height": 425
        },
        "outputId": "620356a3-b014-4ddc-afdf-e4fdac2686c8"
      },
      "source": [
        "#Build Model using Pearson Similarity\n",
        "pearson_model_freq = tc.item_similarity_recommender.create(training_data_freq,\n",
        "                                    user_id='CustomerKey',  \n",
        "                                    item_id='ProductKey',\n",
        "                                    target='Scaled_Frequency',\n",
        "                                    similarity_type='pearson')"
      ],
      "execution_count": null,
      "outputs": [
        {
          "output_type": "display_data",
          "data": {
            "text/html": [
              "<pre>Warning: Ignoring columns OrderQuantity, Pro_dum;</pre>"
            ],
            "text/plain": [
              "Warning: Ignoring columns OrderQuantity, Pro_dum;"
            ]
          },
          "metadata": {
            "tags": []
          }
        },
        {
          "output_type": "display_data",
          "data": {
            "text/html": [
              "<pre>    To use these columns in scoring predictions, use a model that allows the use of additional features.</pre>"
            ],
            "text/plain": [
              "    To use these columns in scoring predictions, use a model that allows the use of additional features."
            ]
          },
          "metadata": {
            "tags": []
          }
        },
        {
          "output_type": "display_data",
          "data": {
            "text/html": [
              "<pre>Preparing data set.</pre>"
            ],
            "text/plain": [
              "Preparing data set."
            ]
          },
          "metadata": {
            "tags": []
          }
        },
        {
          "output_type": "display_data",
          "data": {
            "text/html": [
              "<pre>    Data has 58400 observations with 18459 users and 158 items.</pre>"
            ],
            "text/plain": [
              "    Data has 58400 observations with 18459 users and 158 items."
            ]
          },
          "metadata": {
            "tags": []
          }
        },
        {
          "output_type": "display_data",
          "data": {
            "text/html": [
              "<pre>    Data prepared in: 0.071491s</pre>"
            ],
            "text/plain": [
              "    Data prepared in: 0.071491s"
            ]
          },
          "metadata": {
            "tags": []
          }
        },
        {
          "output_type": "display_data",
          "data": {
            "text/html": [
              "<pre>Training model from provided data.</pre>"
            ],
            "text/plain": [
              "Training model from provided data."
            ]
          },
          "metadata": {
            "tags": []
          }
        },
        {
          "output_type": "display_data",
          "data": {
            "text/html": [
              "<pre>Gathering per-item and per-user statistics.</pre>"
            ],
            "text/plain": [
              "Gathering per-item and per-user statistics."
            ]
          },
          "metadata": {
            "tags": []
          }
        },
        {
          "output_type": "display_data",
          "data": {
            "text/html": [
              "<pre>+--------------------------------+------------+</pre>"
            ],
            "text/plain": [
              "+--------------------------------+------------+"
            ]
          },
          "metadata": {
            "tags": []
          }
        },
        {
          "output_type": "display_data",
          "data": {
            "text/html": [
              "<pre>| Elapsed Time (Item Statistics) | % Complete |</pre>"
            ],
            "text/plain": [
              "| Elapsed Time (Item Statistics) | % Complete |"
            ]
          },
          "metadata": {
            "tags": []
          }
        },
        {
          "output_type": "display_data",
          "data": {
            "text/html": [
              "<pre>+--------------------------------+------------+</pre>"
            ],
            "text/plain": [
              "+--------------------------------+------------+"
            ]
          },
          "metadata": {
            "tags": []
          }
        },
        {
          "output_type": "display_data",
          "data": {
            "text/html": [
              "<pre>| 1.281ms                        | 5.25       |</pre>"
            ],
            "text/plain": [
              "| 1.281ms                        | 5.25       |"
            ]
          },
          "metadata": {
            "tags": []
          }
        },
        {
          "output_type": "display_data",
          "data": {
            "text/html": [
              "<pre>| 17.336ms                       | 100        |</pre>"
            ],
            "text/plain": [
              "| 17.336ms                       | 100        |"
            ]
          },
          "metadata": {
            "tags": []
          }
        },
        {
          "output_type": "display_data",
          "data": {
            "text/html": [
              "<pre>+--------------------------------+------------+</pre>"
            ],
            "text/plain": [
              "+--------------------------------+------------+"
            ]
          },
          "metadata": {
            "tags": []
          }
        },
        {
          "output_type": "display_data",
          "data": {
            "text/html": [
              "<pre>Setting up lookup tables.</pre>"
            ],
            "text/plain": [
              "Setting up lookup tables."
            ]
          },
          "metadata": {
            "tags": []
          }
        },
        {
          "output_type": "display_data",
          "data": {
            "text/html": [
              "<pre>Processing data in one pass using dense lookup tables.</pre>"
            ],
            "text/plain": [
              "Processing data in one pass using dense lookup tables."
            ]
          },
          "metadata": {
            "tags": []
          }
        },
        {
          "output_type": "display_data",
          "data": {
            "text/html": [
              "<pre>+-------------------------------------+------------------+-----------------+</pre>"
            ],
            "text/plain": [
              "+-------------------------------------+------------------+-----------------+"
            ]
          },
          "metadata": {
            "tags": []
          }
        },
        {
          "output_type": "display_data",
          "data": {
            "text/html": [
              "<pre>| Elapsed Time (Constructing Lookups) | Total % Complete | Items Processed |</pre>"
            ],
            "text/plain": [
              "| Elapsed Time (Constructing Lookups) | Total % Complete | Items Processed |"
            ]
          },
          "metadata": {
            "tags": []
          }
        },
        {
          "output_type": "display_data",
          "data": {
            "text/html": [
              "<pre>+-------------------------------------+------------------+-----------------+</pre>"
            ],
            "text/plain": [
              "+-------------------------------------+------------------+-----------------+"
            ]
          },
          "metadata": {
            "tags": []
          }
        },
        {
          "output_type": "display_data",
          "data": {
            "text/html": [
              "<pre>| 17.884ms                            | 0                | 0               |</pre>"
            ],
            "text/plain": [
              "| 17.884ms                            | 0                | 0               |"
            ]
          },
          "metadata": {
            "tags": []
          }
        },
        {
          "output_type": "display_data",
          "data": {
            "text/html": [
              "<pre>| 33.428ms                            | 100              | 158             |</pre>"
            ],
            "text/plain": [
              "| 33.428ms                            | 100              | 158             |"
            ]
          },
          "metadata": {
            "tags": []
          }
        },
        {
          "output_type": "display_data",
          "data": {
            "text/html": [
              "<pre>+-------------------------------------+------------------+-----------------+</pre>"
            ],
            "text/plain": [
              "+-------------------------------------+------------------+-----------------+"
            ]
          },
          "metadata": {
            "tags": []
          }
        },
        {
          "output_type": "display_data",
          "data": {
            "text/html": [
              "<pre>Finalizing lookup tables.</pre>"
            ],
            "text/plain": [
              "Finalizing lookup tables."
            ]
          },
          "metadata": {
            "tags": []
          }
        },
        {
          "output_type": "display_data",
          "data": {
            "text/html": [
              "<pre>Generating candidate set for working with new users.</pre>"
            ],
            "text/plain": [
              "Generating candidate set for working with new users."
            ]
          },
          "metadata": {
            "tags": []
          }
        },
        {
          "output_type": "display_data",
          "data": {
            "text/html": [
              "<pre>Finished training in 0.046156s</pre>"
            ],
            "text/plain": [
              "Finished training in 0.046156s"
            ]
          },
          "metadata": {
            "tags": []
          }
        }
      ]
    },
    {
      "cell_type": "code",
      "metadata": {
        "id": "t-x7Efq01ilU",
        "colab": {
          "base_uri": "https://localhost:8080/"
        },
        "outputId": "0c059d8e-d3ab-4492-eae0-caf870c60e40"
      },
      "source": [
        "pearson_eval_freq = pearson_model_freq.evaluate(validation_data_freq)"
      ],
      "execution_count": null,
      "outputs": [
        {
          "output_type": "stream",
          "text": [
            "\n",
            "Precision and recall summary statistics by cutoff\n",
            "+--------+----------------------+---------------------+\n",
            "| cutoff |    mean_precision    |     mean_recall     |\n",
            "+--------+----------------------+---------------------+\n",
            "|   1    | 0.05793991416309014  | 0.03683834048640917 |\n",
            "|   2    | 0.04721030042918455  | 0.06373390557939915 |\n",
            "|   3    | 0.04363376251788269  | 0.08876967095851214 |\n",
            "|   4    |  0.046137339055794   |  0.1290057224606581 |\n",
            "|   5    | 0.04592274678111585  | 0.16173104434907007 |\n",
            "|   6    | 0.053290414878397724 | 0.22449928469241764 |\n",
            "|   7    | 0.05242182709993864  | 0.25997854077253196 |\n",
            "|   8    | 0.048283261802575105 | 0.27249642346208863 |\n",
            "|   9    | 0.04577968526466377  | 0.29145207439198845 |\n",
            "|   10   | 0.04463519313304723  |  0.3179184549356223 |\n",
            "+--------+----------------------+---------------------+\n",
            "[10 rows x 3 columns]\n",
            "\n",
            "\n",
            "Overall RMSE: 0.5793090822117953\n",
            "\n",
            "Per User RMSE (best)\n",
            "+-------------+------+-------+\n",
            "| CustomerKey | rmse | count |\n",
            "+-------------+------+-------+\n",
            "|    23406    | 0.0  |   1   |\n",
            "+-------------+------+-------+\n",
            "[1 rows x 3 columns]\n",
            "\n",
            "\n",
            "Per User RMSE (worst)\n",
            "+-------------+-------------------+-------+\n",
            "| CustomerKey |        rmse       | count |\n",
            "+-------------+-------------------+-------+\n",
            "|    15310    | 5.859205678038621 |   2   |\n",
            "+-------------+-------------------+-------+\n",
            "[1 rows x 3 columns]\n",
            "\n",
            "\n",
            "Per Item RMSE (best)\n",
            "+------------+------+-------+\n",
            "| ProductKey | rmse | count |\n",
            "+------------+------+-------+\n",
            "|    604     | 0.0  |   5   |\n",
            "+------------+------+-------+\n",
            "[1 rows x 3 columns]\n",
            "\n",
            "\n",
            "Per Item RMSE (worst)\n",
            "+------------+--------------------+-------+\n",
            "| ProductKey |        rmse        | count |\n",
            "+------------+--------------------+-------+\n",
            "|    465     | 1.9223737117336244 |   4   |\n",
            "+------------+--------------------+-------+\n",
            "[1 rows x 3 columns]\n",
            "\n"
          ],
          "name": "stdout"
        }
      ]
    },
    {
      "cell_type": "markdown",
      "metadata": {
        "id": "Ns4RMd6Nl6X_"
      },
      "source": [
        "#Popularity with Scaled Frequency"
      ]
    },
    {
      "cell_type": "code",
      "metadata": {
        "id": "q6ntX8acl5gg",
        "colab": {
          "base_uri": "https://localhost:8080/",
          "height": 119
        },
        "outputId": "59f630dc-cb8d-42de-a571-eeed1c123f95"
      },
      "source": [
        "#Build a Popularity Model\n",
        "popularity_model_freq = tc.recommender.popularity_recommender.create(training_data_freq,\n",
        "                                                                user_id='CustomerKey',\n",
        "                                                                item_id='ProductKey',\n",
        "                                                                target='Scaled_Frequency',\n",
        "                                                                random_seed=2020)"
      ],
      "execution_count": null,
      "outputs": [
        {
          "output_type": "display_data",
          "data": {
            "text/html": [
              "<pre>Warning: Ignoring columns OrderQuantity, Pro_dum;</pre>"
            ],
            "text/plain": [
              "Warning: Ignoring columns OrderQuantity, Pro_dum;"
            ]
          },
          "metadata": {
            "tags": []
          }
        },
        {
          "output_type": "display_data",
          "data": {
            "text/html": [
              "<pre>    To use these columns in scoring predictions, use a model that allows the use of additional features.</pre>"
            ],
            "text/plain": [
              "    To use these columns in scoring predictions, use a model that allows the use of additional features."
            ]
          },
          "metadata": {
            "tags": []
          }
        },
        {
          "output_type": "display_data",
          "data": {
            "text/html": [
              "<pre>Preparing data set.</pre>"
            ],
            "text/plain": [
              "Preparing data set."
            ]
          },
          "metadata": {
            "tags": []
          }
        },
        {
          "output_type": "display_data",
          "data": {
            "text/html": [
              "<pre>    Data has 58400 observations with 18459 users and 158 items.</pre>"
            ],
            "text/plain": [
              "    Data has 58400 observations with 18459 users and 158 items."
            ]
          },
          "metadata": {
            "tags": []
          }
        },
        {
          "output_type": "display_data",
          "data": {
            "text/html": [
              "<pre>    Data prepared in: 0.082221s</pre>"
            ],
            "text/plain": [
              "    Data prepared in: 0.082221s"
            ]
          },
          "metadata": {
            "tags": []
          }
        },
        {
          "output_type": "display_data",
          "data": {
            "text/html": [
              "<pre>58400 observations to process; with 158 unique items.</pre>"
            ],
            "text/plain": [
              "58400 observations to process; with 158 unique items."
            ]
          },
          "metadata": {
            "tags": []
          }
        }
      ]
    },
    {
      "cell_type": "code",
      "metadata": {
        "id": "8MJZU4B2165j",
        "colab": {
          "base_uri": "https://localhost:8080/"
        },
        "outputId": "2f256d66-471c-4b23-f5f7-4e16ed2d93ca"
      },
      "source": [
        "popularity_eval_freq = popularity_model_freq.evaluate(validation_data_freq)"
      ],
      "execution_count": null,
      "outputs": [
        {
          "output_type": "stream",
          "text": [
            "\n",
            "Precision and recall summary statistics by cutoff\n",
            "+--------+----------------------+---------------------+\n",
            "| cutoff |    mean_precision    |     mean_recall     |\n",
            "+--------+----------------------+---------------------+\n",
            "|   1    | 0.06437768240343346  | 0.04327610872675249 |\n",
            "|   2    | 0.048283261802575125 | 0.06695278969957082 |\n",
            "|   3    | 0.043633762517882695 | 0.08930615164520746 |\n",
            "|   4    | 0.04345493562231759  | 0.12095851216022892 |\n",
            "|   5    | 0.048927038626609444 | 0.16859799713876972 |\n",
            "|   6    | 0.05901287553648068  |  0.2490701001430615 |\n",
            "|   7    | 0.05702023298589821  |  0.2830472103004291 |\n",
            "|   8    |  0.0523068669527897  | 0.29806866952789707 |\n",
            "|   9    | 0.04792560801144489  | 0.30772532188841195 |\n",
            "|   10   | 0.04849785407725322  | 0.34724606580829764 |\n",
            "+--------+----------------------+---------------------+\n",
            "[10 rows x 3 columns]\n",
            "\n",
            "\n",
            "Overall RMSE: 0.5966194161659686\n",
            "\n",
            "Per User RMSE (best)\n",
            "+-------------+------+-------+\n",
            "| CustomerKey | rmse | count |\n",
            "+-------------+------+-------+\n",
            "|    14347    | 0.0  |   2   |\n",
            "+-------------+------+-------+\n",
            "[1 rows x 3 columns]\n",
            "\n",
            "\n",
            "Per User RMSE (worst)\n",
            "+-------------+-------------------+-------+\n",
            "| CustomerKey |        rmse       | count |\n",
            "+-------------+-------------------+-------+\n",
            "|    15310    | 5.814505253037428 |   2   |\n",
            "+-------------+-------------------+-------+\n",
            "[1 rows x 3 columns]\n",
            "\n",
            "\n",
            "Per Item RMSE (best)\n",
            "+------------+------+-------+\n",
            "| ProductKey | rmse | count |\n",
            "+------------+------+-------+\n",
            "|    604     | 0.0  |   5   |\n",
            "+------------+------+-------+\n",
            "[1 rows x 3 columns]\n",
            "\n",
            "\n",
            "Per Item RMSE (worst)\n",
            "+------------+------------------+-------+\n",
            "| ProductKey |       rmse       | count |\n",
            "+------------+------------------+-------+\n",
            "|    465     | 2.09956756781236 |   4   |\n",
            "+------------+------------------+-------+\n",
            "[1 rows x 3 columns]\n",
            "\n"
          ],
          "name": "stdout"
        }
      ]
    },
    {
      "cell_type": "markdown",
      "metadata": {
        "id": "ZG3TuhTsNtAg"
      },
      "source": [
        ""
      ]
    },
    {
      "cell_type": "code",
      "metadata": {
        "id": "-VHbFkREBWct"
      },
      "source": [
        "#Performance of all models Using Precision and Recall \n",
        "tc.recommender.util.compare_models(validation_data, [cosine_model, pearson_model, popularity_model], metric='precision_recall')"
      ],
      "execution_count": null,
      "outputs": []
    },
    {
      "cell_type": "code",
      "metadata": {
        "id": "LrXqz4ZpJIxk",
        "colab": {
          "base_uri": "https://localhost:8080/",
          "height": 323
        },
        "outputId": "69721bad-9d4e-4ebf-d85f-c8c9308e4fd1"
      },
      "source": [
        "#Get recommended products for user\n",
        "cosine_rec = cosine_model.recommend()"
      ],
      "execution_count": null,
      "outputs": [
        {
          "output_type": "display_data",
          "data": {
            "text/html": [
              "<pre>recommendations finished on 1000/18459 queries. users per second: 135153</pre>"
            ],
            "text/plain": [
              "recommendations finished on 1000/18459 queries. users per second: 135153"
            ]
          },
          "metadata": {
            "tags": []
          }
        },
        {
          "output_type": "display_data",
          "data": {
            "text/html": [
              "<pre>recommendations finished on 2000/18459 queries. users per second: 137788</pre>"
            ],
            "text/plain": [
              "recommendations finished on 2000/18459 queries. users per second: 137788"
            ]
          },
          "metadata": {
            "tags": []
          }
        },
        {
          "output_type": "display_data",
          "data": {
            "text/html": [
              "<pre>recommendations finished on 3000/18459 queries. users per second: 115942</pre>"
            ],
            "text/plain": [
              "recommendations finished on 3000/18459 queries. users per second: 115942"
            ]
          },
          "metadata": {
            "tags": []
          }
        },
        {
          "output_type": "display_data",
          "data": {
            "text/html": [
              "<pre>recommendations finished on 4000/18459 queries. users per second: 115430</pre>"
            ],
            "text/plain": [
              "recommendations finished on 4000/18459 queries. users per second: 115430"
            ]
          },
          "metadata": {
            "tags": []
          }
        },
        {
          "output_type": "display_data",
          "data": {
            "text/html": [
              "<pre>recommendations finished on 5000/18459 queries. users per second: 117922</pre>"
            ],
            "text/plain": [
              "recommendations finished on 5000/18459 queries. users per second: 117922"
            ]
          },
          "metadata": {
            "tags": []
          }
        },
        {
          "output_type": "display_data",
          "data": {
            "text/html": [
              "<pre>recommendations finished on 6000/18459 queries. users per second: 118444</pre>"
            ],
            "text/plain": [
              "recommendations finished on 6000/18459 queries. users per second: 118444"
            ]
          },
          "metadata": {
            "tags": []
          }
        },
        {
          "output_type": "display_data",
          "data": {
            "text/html": [
              "<pre>recommendations finished on 7000/18459 queries. users per second: 118682</pre>"
            ],
            "text/plain": [
              "recommendations finished on 7000/18459 queries. users per second: 118682"
            ]
          },
          "metadata": {
            "tags": []
          }
        },
        {
          "output_type": "display_data",
          "data": {
            "text/html": [
              "<pre>recommendations finished on 8000/18459 queries. users per second: 120542</pre>"
            ],
            "text/plain": [
              "recommendations finished on 8000/18459 queries. users per second: 120542"
            ]
          },
          "metadata": {
            "tags": []
          }
        },
        {
          "output_type": "display_data",
          "data": {
            "text/html": [
              "<pre>recommendations finished on 9000/18459 queries. users per second: 122436</pre>"
            ],
            "text/plain": [
              "recommendations finished on 9000/18459 queries. users per second: 122436"
            ]
          },
          "metadata": {
            "tags": []
          }
        },
        {
          "output_type": "display_data",
          "data": {
            "text/html": [
              "<pre>recommendations finished on 10000/18459 queries. users per second: 124705</pre>"
            ],
            "text/plain": [
              "recommendations finished on 10000/18459 queries. users per second: 124705"
            ]
          },
          "metadata": {
            "tags": []
          }
        },
        {
          "output_type": "display_data",
          "data": {
            "text/html": [
              "<pre>recommendations finished on 11000/18459 queries. users per second: 124818</pre>"
            ],
            "text/plain": [
              "recommendations finished on 11000/18459 queries. users per second: 124818"
            ]
          },
          "metadata": {
            "tags": []
          }
        },
        {
          "output_type": "display_data",
          "data": {
            "text/html": [
              "<pre>recommendations finished on 12000/18459 queries. users per second: 126147</pre>"
            ],
            "text/plain": [
              "recommendations finished on 12000/18459 queries. users per second: 126147"
            ]
          },
          "metadata": {
            "tags": []
          }
        },
        {
          "output_type": "display_data",
          "data": {
            "text/html": [
              "<pre>recommendations finished on 13000/18459 queries. users per second: 126022</pre>"
            ],
            "text/plain": [
              "recommendations finished on 13000/18459 queries. users per second: 126022"
            ]
          },
          "metadata": {
            "tags": []
          }
        },
        {
          "output_type": "display_data",
          "data": {
            "text/html": [
              "<pre>recommendations finished on 14000/18459 queries. users per second: 125731</pre>"
            ],
            "text/plain": [
              "recommendations finished on 14000/18459 queries. users per second: 125731"
            ]
          },
          "metadata": {
            "tags": []
          }
        },
        {
          "output_type": "display_data",
          "data": {
            "text/html": [
              "<pre>recommendations finished on 15000/18459 queries. users per second: 126607</pre>"
            ],
            "text/plain": [
              "recommendations finished on 15000/18459 queries. users per second: 126607"
            ]
          },
          "metadata": {
            "tags": []
          }
        },
        {
          "output_type": "display_data",
          "data": {
            "text/html": [
              "<pre>recommendations finished on 16000/18459 queries. users per second: 127622</pre>"
            ],
            "text/plain": [
              "recommendations finished on 16000/18459 queries. users per second: 127622"
            ]
          },
          "metadata": {
            "tags": []
          }
        },
        {
          "output_type": "display_data",
          "data": {
            "text/html": [
              "<pre>recommendations finished on 17000/18459 queries. users per second: 128330</pre>"
            ],
            "text/plain": [
              "recommendations finished on 17000/18459 queries. users per second: 128330"
            ]
          },
          "metadata": {
            "tags": []
          }
        },
        {
          "output_type": "display_data",
          "data": {
            "text/html": [
              "<pre>recommendations finished on 18000/18459 queries. users per second: 128231</pre>"
            ],
            "text/plain": [
              "recommendations finished on 18000/18459 queries. users per second: 128231"
            ]
          },
          "metadata": {
            "tags": []
          }
        }
      ]
    },
    {
      "cell_type": "code",
      "metadata": {
        "id": "QUGfxer4AoQZ",
        "colab": {
          "base_uri": "https://localhost:8080/"
        },
        "outputId": "61b153de-f938-419a-ca90-71de92c1ab6c"
      },
      "source": [
        "cosine_rec.print_rows(num_rows = 40, num_columns = 4) "
      ],
      "execution_count": null,
      "outputs": [
        {
          "output_type": "stream",
          "text": [
            "+-------------+------------+---------------------+------+\n",
            "| CustomerKey | ProductKey |        score        | rank |\n",
            "+-------------+------------+---------------------+------+\n",
            "|    11000    |    480     | 0.12689762562513351 |  1   |\n",
            "|    11000    |    477     | 0.11075685918331146 |  2   |\n",
            "|    11000    |    478     |  0.1043827012181282 |  3   |\n",
            "|    11000    |    225     | 0.10306187719106674 |  4   |\n",
            "|    11000    |    529     |  0.1012224331498146 |  5   |\n",
            "|    11000    |    528     | 0.09604915231466293 |  6   |\n",
            "|    11000    |    537     | 0.08558521419763565 |  7   |\n",
            "|    11000    |    217     | 0.08470942825078964 |  8   |\n",
            "|    11000    |    487     | 0.07671985030174255 |  9   |\n",
            "|    11000    |    479     | 0.07189438492059708 |  10  |\n",
            "|    11001    |    214     | 0.11822129487991333 |  1   |\n",
            "|    11001    |    528     | 0.11363202929496766 |  2   |\n",
            "|    11001    |    537     | 0.11137312650680542 |  3   |\n",
            "|    11001    |    487     | 0.10360699892044067 |  4   |\n",
            "|    11001    |    480     | 0.10092064142227172 |  5   |\n",
            "|    11001    |    222     | 0.09425857067108154 |  6   |\n",
            "|    11001    |    484     | 0.09327015280723572 |  7   |\n",
            "|    11001    |    529     |  0.0918117880821228 |  8   |\n",
            "|    11001    |    530     |  0.0870482325553894 |  9   |\n",
            "|    11001    |    463     | 0.07528182864189148 |  10  |\n",
            "|    11002    |    477     | 0.09874562919139862 |  1   |\n",
            "|    11002    |    478     | 0.09141533076763153 |  2   |\n",
            "|    11002    |    485     | 0.07875652611255646 |  3   |\n",
            "|    11002    |    537     | 0.07632200419902802 |  4   |\n",
            "|    11002    |    528     | 0.07499262690544128 |  5   |\n",
            "|    11002    |    479     | 0.07322549819946289 |  6   |\n",
            "|    11002    |    225     | 0.06937424838542938 |  7   |\n",
            "|    11002    |    541     | 0.06481488049030304 |  8   |\n",
            "|    11002    |    530     | 0.06223556399345398 |  9   |\n",
            "|    11002    |    214     |  0.0616469532251358 |  10  |\n",
            "|    11003    |    529     | 0.13178888294431898 |  1   |\n",
            "|    11003    |    479     | 0.12731512387593588 |  2   |\n",
            "|    11003    |    214     |  0.1259412169456482 |  3   |\n",
            "|    11003    |    528     | 0.12199328343073527 |  4   |\n",
            "|    11003    |    222     |  0.1208133962419298 |  5   |\n",
            "|    11003    |    537     | 0.11698335409164429 |  6   |\n",
            "|    11003    |    484     | 0.11286176575554742 |  7   |\n",
            "|    11003    |    217     | 0.11094631089104547 |  8   |\n",
            "|    11003    |    487     | 0.10672132836447822 |  9   |\n",
            "|    11003    |    535     | 0.10277675920062596 |  10  |\n",
            "+-------------+------------+---------------------+------+\n",
            "[184590 rows x 4 columns]\n",
            "\n"
          ],
          "name": "stdout"
        }
      ]
    },
    {
      "cell_type": "code",
      "metadata": {
        "id": "kbVg7-TnS81r"
      },
      "source": [
        "##Customer Recommendation function to excel"
      ],
      "execution_count": null,
      "outputs": []
    },
    {
      "cell_type": "code",
      "metadata": {
        "id": "ugKpUt_9QidD"
      },
      "source": [
        "#Convert Sframe of Recommended products to Pandas DataFrame\n",
        "cosine_rec_df = cosine_rec.to_dataframe()"
      ],
      "execution_count": null,
      "outputs": []
    },
    {
      "cell_type": "code",
      "metadata": {
        "id": "S7DOQH_0QtN-"
      },
      "source": [
        "#Save the Recommended Product dataframe to CSV\n",
        "cosine_rec_df.to_csv('Final_Rec_Cosine_Sim_Count.csv', index=False)"
      ],
      "execution_count": null,
      "outputs": []
    },
    {
      "cell_type": "code",
      "metadata": {
        "id": "BWdRy1KJHLsP",
        "colab": {
          "base_uri": "https://localhost:8080/",
          "height": 245
        },
        "outputId": "184fa884-f899-47ff-9fce-09c35c9f249e"
      },
      "source": [
        "#Recommedn Product for a User\n",
        "cosine_model.recommend(users=['11015'])"
      ],
      "execution_count": null,
      "outputs": [
        {
          "output_type": "execute_result",
          "data": {
            "text/html": [
              "<div style=\"max-height:1000px;max-width:1500px;overflow:auto;\"><table frame=\"box\" rules=\"cols\">\n",
              "    <tr>\n",
              "        <th style=\"padding-left: 1em; padding-right: 1em; text-align: center\">CustomerKey</th>\n",
              "        <th style=\"padding-left: 1em; padding-right: 1em; text-align: center\">ProductKey</th>\n",
              "        <th style=\"padding-left: 1em; padding-right: 1em; text-align: center\">score</th>\n",
              "        <th style=\"padding-left: 1em; padding-right: 1em; text-align: center\">rank</th>\n",
              "    </tr>\n",
              "    <tr>\n",
              "        <td style=\"padding-left: 1em; padding-right: 1em; text-align: center; vertical-align: top\">11015</td>\n",
              "        <td style=\"padding-left: 1em; padding-right: 1em; text-align: center; vertical-align: top\">478</td>\n",
              "        <td style=\"padding-left: 1em; padding-right: 1em; text-align: center; vertical-align: top\">0.12890752156575522</td>\n",
              "        <td style=\"padding-left: 1em; padding-right: 1em; text-align: center; vertical-align: top\">1</td>\n",
              "    </tr>\n",
              "    <tr>\n",
              "        <td style=\"padding-left: 1em; padding-right: 1em; text-align: center; vertical-align: top\">11015</td>\n",
              "        <td style=\"padding-left: 1em; padding-right: 1em; text-align: center; vertical-align: top\">480</td>\n",
              "        <td style=\"padding-left: 1em; padding-right: 1em; text-align: center; vertical-align: top\">0.10096220175425212</td>\n",
              "        <td style=\"padding-left: 1em; padding-right: 1em; text-align: center; vertical-align: top\">2</td>\n",
              "    </tr>\n",
              "    <tr>\n",
              "        <td style=\"padding-left: 1em; padding-right: 1em; text-align: center; vertical-align: top\">11015</td>\n",
              "        <td style=\"padding-left: 1em; padding-right: 1em; text-align: center; vertical-align: top\">528</td>\n",
              "        <td style=\"padding-left: 1em; padding-right: 1em; text-align: center; vertical-align: top\">0.09900734821955363</td>\n",
              "        <td style=\"padding-left: 1em; padding-right: 1em; text-align: center; vertical-align: top\">3</td>\n",
              "    </tr>\n",
              "    <tr>\n",
              "        <td style=\"padding-left: 1em; padding-right: 1em; text-align: center; vertical-align: top\">11015</td>\n",
              "        <td style=\"padding-left: 1em; padding-right: 1em; text-align: center; vertical-align: top\">537</td>\n",
              "        <td style=\"padding-left: 1em; padding-right: 1em; text-align: center; vertical-align: top\">0.09805210431416829</td>\n",
              "        <td style=\"padding-left: 1em; padding-right: 1em; text-align: center; vertical-align: top\">4</td>\n",
              "    </tr>\n",
              "    <tr>\n",
              "        <td style=\"padding-left: 1em; padding-right: 1em; text-align: center; vertical-align: top\">11015</td>\n",
              "        <td style=\"padding-left: 1em; padding-right: 1em; text-align: center; vertical-align: top\">477</td>\n",
              "        <td style=\"padding-left: 1em; padding-right: 1em; text-align: center; vertical-align: top\">0.09783838192621867</td>\n",
              "        <td style=\"padding-left: 1em; padding-right: 1em; text-align: center; vertical-align: top\">5</td>\n",
              "    </tr>\n",
              "    <tr>\n",
              "        <td style=\"padding-left: 1em; padding-right: 1em; text-align: center; vertical-align: top\">11015</td>\n",
              "        <td style=\"padding-left: 1em; padding-right: 1em; text-align: center; vertical-align: top\">214</td>\n",
              "        <td style=\"padding-left: 1em; padding-right: 1em; text-align: center; vertical-align: top\">0.07712111870447795</td>\n",
              "        <td style=\"padding-left: 1em; padding-right: 1em; text-align: center; vertical-align: top\">6</td>\n",
              "    </tr>\n",
              "    <tr>\n",
              "        <td style=\"padding-left: 1em; padding-right: 1em; text-align: center; vertical-align: top\">11015</td>\n",
              "        <td style=\"padding-left: 1em; padding-right: 1em; text-align: center; vertical-align: top\">217</td>\n",
              "        <td style=\"padding-left: 1em; padding-right: 1em; text-align: center; vertical-align: top\">0.07394182682037354</td>\n",
              "        <td style=\"padding-left: 1em; padding-right: 1em; text-align: center; vertical-align: top\">7</td>\n",
              "    </tr>\n",
              "    <tr>\n",
              "        <td style=\"padding-left: 1em; padding-right: 1em; text-align: center; vertical-align: top\">11015</td>\n",
              "        <td style=\"padding-left: 1em; padding-right: 1em; text-align: center; vertical-align: top\">222</td>\n",
              "        <td style=\"padding-left: 1em; padding-right: 1em; text-align: center; vertical-align: top\">0.07256937026977539</td>\n",
              "        <td style=\"padding-left: 1em; padding-right: 1em; text-align: center; vertical-align: top\">8</td>\n",
              "    </tr>\n",
              "    <tr>\n",
              "        <td style=\"padding-left: 1em; padding-right: 1em; text-align: center; vertical-align: top\">11015</td>\n",
              "        <td style=\"padding-left: 1em; padding-right: 1em; text-align: center; vertical-align: top\">225</td>\n",
              "        <td style=\"padding-left: 1em; padding-right: 1em; text-align: center; vertical-align: top\">0.07093872626622517</td>\n",
              "        <td style=\"padding-left: 1em; padding-right: 1em; text-align: center; vertical-align: top\">9</td>\n",
              "    </tr>\n",
              "    <tr>\n",
              "        <td style=\"padding-left: 1em; padding-right: 1em; text-align: center; vertical-align: top\">11015</td>\n",
              "        <td style=\"padding-left: 1em; padding-right: 1em; text-align: center; vertical-align: top\">529</td>\n",
              "        <td style=\"padding-left: 1em; padding-right: 1em; text-align: center; vertical-align: top\">0.06148775418599447</td>\n",
              "        <td style=\"padding-left: 1em; padding-right: 1em; text-align: center; vertical-align: top\">10</td>\n",
              "    </tr>\n",
              "</table>\n",
              "[10 rows x 4 columns]<br/>\n",
              "</div>"
            ],
            "text/plain": [
              "Columns:\n",
              "\tCustomerKey\tint\n",
              "\tProductKey\tint\n",
              "\tscore\tfloat\n",
              "\trank\tint\n",
              "\n",
              "Rows: 10\n",
              "\n",
              "Data:\n",
              "+-------------+------------+---------------------+------+\n",
              "| CustomerKey | ProductKey |        score        | rank |\n",
              "+-------------+------------+---------------------+------+\n",
              "|    11015    |    478     | 0.12890752156575522 |  1   |\n",
              "|    11015    |    480     | 0.10096220175425212 |  2   |\n",
              "|    11015    |    528     | 0.09900734821955363 |  3   |\n",
              "|    11015    |    537     | 0.09805210431416829 |  4   |\n",
              "|    11015    |    477     | 0.09783838192621867 |  5   |\n",
              "|    11015    |    214     | 0.07712111870447795 |  6   |\n",
              "|    11015    |    217     | 0.07394182682037354 |  7   |\n",
              "|    11015    |    222     | 0.07256937026977539 |  8   |\n",
              "|    11015    |    225     | 0.07093872626622517 |  9   |\n",
              "|    11015    |    529     | 0.06148775418599447 |  10  |\n",
              "+-------------+------------+---------------------+------+\n",
              "[10 rows x 4 columns]"
            ]
          },
          "metadata": {
            "tags": []
          },
          "execution_count": 32
        }
      ]
    },
    {
      "cell_type": "code",
      "metadata": {
        "id": "mMa1tJccHMk9",
        "colab": {
          "base_uri": "https://localhost:8080/",
          "height": 245
        },
        "outputId": "b57421de-79d9-430e-83c9-90d95eafc7d5"
      },
      "source": [
        "#Recommedn Product for a User\n",
        "popularity_model.recommend(users=['11015'])"
      ],
      "execution_count": null,
      "outputs": [
        {
          "output_type": "execute_result",
          "data": {
            "text/html": [
              "<div style=\"max-height:1000px;max-width:1500px;overflow:auto;\"><table frame=\"box\" rules=\"cols\">\n",
              "    <tr>\n",
              "        <th style=\"padding-left: 1em; padding-right: 1em; text-align: center\">CustomerKey</th>\n",
              "        <th style=\"padding-left: 1em; padding-right: 1em; text-align: center\">ProductKey</th>\n",
              "        <th style=\"padding-left: 1em; padding-right: 1em; text-align: center\">score</th>\n",
              "        <th style=\"padding-left: 1em; padding-right: 1em; text-align: center\">rank</th>\n",
              "    </tr>\n",
              "    <tr>\n",
              "        <td style=\"padding-left: 1em; padding-right: 1em; text-align: center; vertical-align: top\">11015</td>\n",
              "        <td style=\"padding-left: 1em; padding-right: 1em; text-align: center; vertical-align: top\">477</td>\n",
              "        <td style=\"padding-left: 1em; padding-right: 1em; text-align: center; vertical-align: top\">4195.0</td>\n",
              "        <td style=\"padding-left: 1em; padding-right: 1em; text-align: center; vertical-align: top\">1</td>\n",
              "    </tr>\n",
              "    <tr>\n",
              "        <td style=\"padding-left: 1em; padding-right: 1em; text-align: center; vertical-align: top\">11015</td>\n",
              "        <td style=\"padding-left: 1em; padding-right: 1em; text-align: center; vertical-align: top\">480</td>\n",
              "        <td style=\"padding-left: 1em; padding-right: 1em; text-align: center; vertical-align: top\">3159.0</td>\n",
              "        <td style=\"padding-left: 1em; padding-right: 1em; text-align: center; vertical-align: top\">2</td>\n",
              "    </tr>\n",
              "    <tr>\n",
              "        <td style=\"padding-left: 1em; padding-right: 1em; text-align: center; vertical-align: top\">11015</td>\n",
              "        <td style=\"padding-left: 1em; padding-right: 1em; text-align: center; vertical-align: top\">528</td>\n",
              "        <td style=\"padding-left: 1em; padding-right: 1em; text-align: center; vertical-align: top\">3048.0</td>\n",
              "        <td style=\"padding-left: 1em; padding-right: 1em; text-align: center; vertical-align: top\">3</td>\n",
              "    </tr>\n",
              "    <tr>\n",
              "        <td style=\"padding-left: 1em; padding-right: 1em; text-align: center; vertical-align: top\">11015</td>\n",
              "        <td style=\"padding-left: 1em; padding-right: 1em; text-align: center; vertical-align: top\">529</td>\n",
              "        <td style=\"padding-left: 1em; padding-right: 1em; text-align: center; vertical-align: top\">2341.0</td>\n",
              "        <td style=\"padding-left: 1em; padding-right: 1em; text-align: center; vertical-align: top\">4</td>\n",
              "    </tr>\n",
              "    <tr>\n",
              "        <td style=\"padding-left: 1em; padding-right: 1em; text-align: center; vertical-align: top\">11015</td>\n",
              "        <td style=\"padding-left: 1em; padding-right: 1em; text-align: center; vertical-align: top\">214</td>\n",
              "        <td style=\"padding-left: 1em; padding-right: 1em; text-align: center; vertical-align: top\">2202.0</td>\n",
              "        <td style=\"padding-left: 1em; padding-right: 1em; text-align: center; vertical-align: top\">5</td>\n",
              "    </tr>\n",
              "    <tr>\n",
              "        <td style=\"padding-left: 1em; padding-right: 1em; text-align: center; vertical-align: top\">11015</td>\n",
              "        <td style=\"padding-left: 1em; padding-right: 1em; text-align: center; vertical-align: top\">225</td>\n",
              "        <td style=\"padding-left: 1em; padding-right: 1em; text-align: center; vertical-align: top\">2165.0</td>\n",
              "        <td style=\"padding-left: 1em; padding-right: 1em; text-align: center; vertical-align: top\">6</td>\n",
              "    </tr>\n",
              "    <tr>\n",
              "        <td style=\"padding-left: 1em; padding-right: 1em; text-align: center; vertical-align: top\">11015</td>\n",
              "        <td style=\"padding-left: 1em; padding-right: 1em; text-align: center; vertical-align: top\">222</td>\n",
              "        <td style=\"padding-left: 1em; padding-right: 1em; text-align: center; vertical-align: top\">2098.0</td>\n",
              "        <td style=\"padding-left: 1em; padding-right: 1em; text-align: center; vertical-align: top\">7</td>\n",
              "    </tr>\n",
              "    <tr>\n",
              "        <td style=\"padding-left: 1em; padding-right: 1em; text-align: center; vertical-align: top\">11015</td>\n",
              "        <td style=\"padding-left: 1em; padding-right: 1em; text-align: center; vertical-align: top\">217</td>\n",
              "        <td style=\"padding-left: 1em; padding-right: 1em; text-align: center; vertical-align: top\">2066.0</td>\n",
              "        <td style=\"padding-left: 1em; padding-right: 1em; text-align: center; vertical-align: top\">8</td>\n",
              "    </tr>\n",
              "    <tr>\n",
              "        <td style=\"padding-left: 1em; padding-right: 1em; text-align: center; vertical-align: top\">11015</td>\n",
              "        <td style=\"padding-left: 1em; padding-right: 1em; text-align: center; vertical-align: top\">478</td>\n",
              "        <td style=\"padding-left: 1em; padding-right: 1em; text-align: center; vertical-align: top\">2000.0</td>\n",
              "        <td style=\"padding-left: 1em; padding-right: 1em; text-align: center; vertical-align: top\">9</td>\n",
              "    </tr>\n",
              "    <tr>\n",
              "        <td style=\"padding-left: 1em; padding-right: 1em; text-align: center; vertical-align: top\">11015</td>\n",
              "        <td style=\"padding-left: 1em; padding-right: 1em; text-align: center; vertical-align: top\">479</td>\n",
              "        <td style=\"padding-left: 1em; padding-right: 1em; text-align: center; vertical-align: top\">1692.0</td>\n",
              "        <td style=\"padding-left: 1em; padding-right: 1em; text-align: center; vertical-align: top\">10</td>\n",
              "    </tr>\n",
              "</table>\n",
              "[10 rows x 4 columns]<br/>\n",
              "</div>"
            ],
            "text/plain": [
              "Columns:\n",
              "\tCustomerKey\tint\n",
              "\tProductKey\tint\n",
              "\tscore\tfloat\n",
              "\trank\tint\n",
              "\n",
              "Rows: 10\n",
              "\n",
              "Data:\n",
              "+-------------+------------+--------+------+\n",
              "| CustomerKey | ProductKey | score  | rank |\n",
              "+-------------+------------+--------+------+\n",
              "|    11015    |    477     | 4195.0 |  1   |\n",
              "|    11015    |    480     | 3159.0 |  2   |\n",
              "|    11015    |    528     | 3048.0 |  3   |\n",
              "|    11015    |    529     | 2341.0 |  4   |\n",
              "|    11015    |    214     | 2202.0 |  5   |\n",
              "|    11015    |    225     | 2165.0 |  6   |\n",
              "|    11015    |    222     | 2098.0 |  7   |\n",
              "|    11015    |    217     | 2066.0 |  8   |\n",
              "|    11015    |    478     | 2000.0 |  9   |\n",
              "|    11015    |    479     | 1692.0 |  10  |\n",
              "+-------------+------------+--------+------+\n",
              "[10 rows x 4 columns]"
            ]
          },
          "metadata": {
            "tags": []
          },
          "execution_count": 34
        }
      ]
    },
    {
      "cell_type": "code",
      "metadata": {
        "id": "6pCln17c79Qm"
      },
      "source": [
        ""
      ],
      "execution_count": null,
      "outputs": []
    }
  ]
}